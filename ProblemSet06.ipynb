{
 "cells": [
  {
   "cell_type": "markdown",
   "metadata": {
    "course": "Comp521F19",
    "problemset": 5,
    "section": "header"
   },
   "source": [
    "<div style=\"text-align: center;\">\n",
    "<h1>The University of North Carolina at Chapel Hill</h1>\n",
    "<h1>Comp 521 Files and Databases - Fall 2019</h1>\n",
    "<h1 style=\"font-size: 250%;\">Problem Set #6</h1>\n",
    "<h1 style=\"font-size: 200%;\">Version 1.0</h1>\n",
    "<h1>Issued Thursday 11/21/2019; Due Tuesday 12/03/2019</h1>\n",
    "</div>\n",
    "\n",
    "**Homework Information:** The answer cells in this notebook contain metadata that enable it to be automatically parsed. Thus, you must enter your answers *only* into the cells provided. Do not delete any answer cell and/or add a new one to replace it. If you do so by accident, download a new copy of the problem set's notebook and transfer your answers into it. You can introduce new 'coding' cells in an effort to test approaches to problems, however, these introduced cells will not be considered when grading.\n",
    "\n",
    "Finally, some of the problems are probably too long to be done the night before the due date, so plan accordingly. Late problem sets will be accepted, but your lowest problem-set grade will be dropped. Feel free to get help from others, but the work you submit in should be your own."
   ]
  },
  {
   "cell_type": "code",
   "execution_count": 1,
   "metadata": {
    "collapsed": true,
    "section": "signature"
   },
   "outputs": [],
   "source": [
    "# Do not make any edits in this cell!\n",
    "class Student:\n",
    "    first = \"Adam\"\n",
    "    last = \"Alston\"\n",
    "    onyen = \"aalston9\"\n",
    "    pid = \"730015776\""
   ]
  },
  {
   "cell_type": "markdown",
   "metadata": {
    "section": "setup"
   },
   "source": [
    "In this problem set you will build and experiment with a NoSQL document database using MongoDB. To start you will need to go to the following website: https://docs.mongodb.com/manual/administration/install-community/\n",
    "and follow installation instructions for MongoDB *Community Edition* on your OS.\n",
    "\n",
    "Next you will need to download [players.json](http://csbio.unc.edu/mcmillan/Media/players.json) to use as your example database.\n",
    "\n",
    "Finally, you should be able to start the mongo shell by typing **mongo** into a command line shell window. The result should resemble the following:\n",
    "\n",
    "        $ mongo\n",
    "        MongoDB shell version: 3.2.11\n",
    "        connecting to: test\n",
    "        Server has startup warnings: \n",
    "        2019-11-21T09:28:43.117-0500 I CONTROL  [initandlisten] \n",
    "        2019-11-21T09:28:43.117-0500 I CONTROL  [initandlisten] ** WARNING: soft rlimits too low. \n",
    "        rlimits set to 19793 processes, 1048576 files. Number of processes should be at least 524288\n",
    "        : 0.5 times number of files.\n",
    "        > use football\n",
    "        switched to db football\n",
    "        > var file = cat('./players.json')\n",
    "        > var obj = JSON.parse(file)\n",
    "        > db.football.insert(obj)\n",
    "        BulkWriteResult({\n",
    "                \"writeErrors\" : [ ],\n",
    "                \"writeConcernErrors\" : [ ],\n",
    "                \"nInserted\" : 25043,\n",
    "                \"nUpserted\" : 0,\n",
    "                \"nMatched\" : 0,\n",
    "                \"nModified\" : 0,\n",
    "                \"nRemoved\" : 0,\n",
    "                \"upserted\" : [ ]\n",
    "        })\n",
    "        >\n",
    "\n",
    "As a test try the following MongoDB query:\n",
    "\n",
    "        > db.football.find({current_team: \"New England Patriots\"})"
   ]
  },
  {
   "cell_type": "code",
   "execution_count": 1,
   "metadata": {},
   "outputs": [],
   "source": [
    "use football\n",
    "\n",
    "var file = cat('./players.json')\n",
    "var obj = JSON.parse(file)\n",
    "db.football.insert(obj)\n",
    "\n",
    "show dbs\n",
    "\n",
    "db.football.find()\n",
    "\n",
    "db.football.count();\n",
    "\n",
    "db.football.find({name: \"Tom Brady\"})\n",
    "\n",
    "db.football.find({current_team: \"New England Patriots\"})\n",
    "\n",
    "db.football.find({current_team: \"New England Patriots\", position: \"QB\"});\n",
    "\n",
    "db.football.count({current_team: \"New England Patriots\"});\n",
    "\n",
    "db.football.count({current_team: \"Green Bay Packers\"});\n",
    "\n",
    "db.football.aggregate( [\n",
    "    { $group : { _id : \"$draft_year\", count: { $sum: 1 } } }, \n",
    "    { $sort : { count: -1} }] )\n",
    "\n",
    "db.football.aggregate( [\n",
    "    { $group : { _id : \"$draft_year\", count: { $sum: 1 } } }, \n",
    "    { $sort : { _id: -1} } ] )\n",
    "\n",
    "db.football.aggregate( [\n",
    "    {$match : {position: \"QB\"}},\n",
    "    { $group : { _id : \"$draft_year\", count: { $sum: 1 } } }, \n",
    "    { $sort : { _id: -1} } ] )\n",
    "\n",
    "db.football.mapReduce(\n",
    "    function() { emit(this.college, 1); },\n",
    "    function(key, values) { return Array.sum(values); },\n",
    "    {\n",
    "        query: {draft_year: {$gt: '1984'}},\n",
    "        out: \"collegeCounts\"     \n",
    "    }\n",
    ")\n",
    "\n",
    "db.football.mapReduce(\n",
    "    function() { emit(this.birth_date, 1); },\n",
    "    function(key, values) { return count: {$sum : 1} },\n",
    "    {\n",
    "        query: {birth_date: {$gt: 1}},\n",
    "        out: “commonDOB”     \n",
    "    }\n",
    ")\n",
    "\n",
    "show collections\n",
    "\n",
    "db.collegeCnts.find().sort({value:-1})\n",
    "\n",
    "db.collegeCnts.deleteMany({})\n",
    "\n",
    "db.collegeCnts.count()\n"
   ]
  },
  {
   "cell_type": "markdown",
   "metadata": {
    "case": 0,
    "key": "shared",
    "number": 1,
    "section": "problem"
   },
   "source": [
    "---\n",
    "**Problem 1:** Write a mapReduce function to generate a collection of all players sharing a common bithdate."
   ]
  },
  {
   "cell_type": "markdown",
   "metadata": {},
   "source": [
    "Click [here to submit](http://csbio.unc.edu/mcmillan/index.py?run=PS.upload) your completed problem set.\n",
    "\n",
    "You can submit it as many times as you would like, but only the last submitted version will be graded. If the last submission was after the due date the final score will be reduced accordingly. "
   ]
  }
 ],
 "metadata": {
  "kernelspec": {
   "display_name": "Python 2",
   "language": "python",
   "name": "python2"
  },
  "language_info": {
   "codemirror_mode": {
    "name": "ipython",
    "version": 2
   },
   "file_extension": ".py",
   "mimetype": "text/x-python",
   "name": "python",
   "nbconvert_exporter": "python",
   "pygments_lexer": "ipython2",
   "version": "2.7.16"
  }
 },
 "nbformat": 4,
 "nbformat_minor": 1
}
