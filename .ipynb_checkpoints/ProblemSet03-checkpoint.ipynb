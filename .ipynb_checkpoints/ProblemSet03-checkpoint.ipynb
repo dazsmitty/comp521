{
 "cells": [
  {
   "cell_type": "markdown",
   "metadata": {
    "course": "Comp521F19",
    "problemset": 3,
    "section": "header"
   },
   "source": [
    "<div style=\"text-align: center;\">\n",
    "<h1>The University of North Carolina at Chapel Hill</h1>\n",
    "<h1>Comp 521 Files and Databases - Fall 2019</h1>\n",
    "<h1 style=\"font-size: 250%;\">Problem Set #3</h1>\n",
    "<h1 style=\"font-size: 200%;\">Version 1.1</h1>\n",
    "<h1>Issued Tuesday 10/01/2019; Due Thursday 10/10/2019</h1>\n",
    "</div>\n",
    "\n",
    "**Homework Information:** The answer cells in this notebook contain metadata that enable it to be automatically parsed. Thus, you must enter your answers *only* into the cells provided. Do not delete any answer cell and/or add a new one to replace it. If you do so by accident, download a new copy of the problem set's notebook and transfer your answers into it. You can introduce new 'coding' cells in an effort to test approaches to problems, however, these introduced cells will not be considered when grading.\n",
    "\n",
    "Finally, some of the problems are probably too long to be done the night before the due date, so plan accordingly. Late problem sets will be accepted, but your lowest problem-set grade will be dropped. Feel free to get help from others, but the work you submit in should be your own."
   ]
  },
  {
   "cell_type": "code",
   "execution_count": 1,
   "metadata": {
    "collapsed": true,
    "section": "signature"
   },
   "outputs": [],
   "source": [
    "# Do not make any edits in this cell!\n",
    "class Student:\n",
    "    first = \"Adam\"\n",
    "    last = \"Alston\"\n",
    "    onyen = \"aalston9\"\n",
    "    pid = \"730015776\""
   ]
  },
  {
   "cell_type": "markdown",
   "metadata": {
    "section": "setup"
   },
   "source": [
    "In the following questions you will need to write Python3 programs to perform queries\n",
    "    on and modify the <a href=\"http://csbio.unc.edu/mcmillan/Media/NFL.db\" download>NFL.db</a>\n",
    "    database used in Problem Set #2. You sholud only need to import the standard \"sqlite3\"\n",
    "    and the \"time\" Python packages."
   ]
  },
  {
   "cell_type": "markdown",
   "metadata": {
    "case": 0,
    "key": "season2019",
    "number": 1,
    "section": "problem"
   },
   "source": [
    "---\n",
    "**Problem 1:** The file <a href=\"http://csbio.unc.edu/mcmillan/Media/NFLgames2019.csv\" download>NFLgames2019.csv</a>\n",
    "        contains the schedule for the 2019 NFL season. It includes the scores of all games played\n",
    "        before October 1, and 0-0 for games yet to be played. Write a Python3 program that loads\n",
    "        these new records into the Game table, but places <i>nulls</i> for the scores of unplayed\n",
    "        games."
   ]
  },
  {
   "cell_type": "code",
   "execution_count": 1,
   "metadata": {
    "case": 0,
    "key": "season2019",
    "number": 1,
    "section": "answer"
   },
   "outputs": [],
   "source": [
    "# Enter your Python3 code here"
   ]
  },
  {
   "cell_type": "markdown",
   "metadata": {
    "case": 1,
    "key": "season2019",
    "number": 2,
    "section": "problem"
   },
   "source": [
    "---\n",
    "**Problem 2:** Using the results from Problem #1, write a Python3 program to compute the 2019\n",
    "        strength-of-schedule for each team as follows. First, find the number of wins of each team\n",
    "        in 2018. Then accumulate the number of the 2018 wins of every team's opponent in the 2019\n",
    "        season. Produce a sorted strength-of-schedule list with a row for each team and their number\n",
    "        of wins in decreasing order. If a team is played more than once it's win-count should be\n",
    "        added however many times it is played."
   ]
  },
  {
   "cell_type": "code",
   "execution_count": 1,
   "metadata": {
    "case": 1,
    "key": "season2019",
    "number": 2,
    "section": "answer"
   },
   "outputs": [],
   "source": [
    "# Enter your Python3 code here"
   ]
  },
  {
   "cell_type": "markdown",
   "metadata": {
    "case": 0,
    "key": "ClayMatthews",
    "number": 3,
    "section": "problem"
   },
   "source": [
    "---\n",
    "**Problem 3:** Clay Matthews and Mel Farr are examples of father-son combinations who have both\n",
    "        played in the NFL, and who attended the same college. In the space below write a SQL\n",
    "        query that lists these players and any others that *might* have this or a similar\n",
    "        relationship."
   ]
  },
  {
   "cell_type": "raw",
   "metadata": {
    "case": 0,
    "key": "ClayMatthews",
    "number": 3,
    "section": "answer"
   },
   "source": [
    "Enter the SQL query your answer here"
   ]
  },
  {
   "cell_type": "markdown",
   "metadata": {
    "case": 1,
    "key": "ClayMatthews",
    "number": 4,
    "section": "problem"
   },
   "source": [
    "---\n",
    "**Problem 4:** If you examine the rosters that players named \"Clay Matthews\" and \"Mel Farr\" appeared\n",
    "        in you will find that the database has obvious errors due to this father-son confusion.\n",
    "        Write a Python3 program to repair the errant Player and PlayedFor table entries (Hint:\n",
    "        you might find it useful to consult Wikipedia)."
   ]
  },
  {
   "cell_type": "code",
   "execution_count": 1,
   "metadata": {
    "case": 1,
    "key": "ClayMatthews",
    "number": 4,
    "section": "answer"
   },
   "outputs": [],
   "source": [
    "# Enter your Python3 code here"
   ]
  },
  {
   "cell_type": "markdown",
   "metadata": {
    "case": 0,
    "key": "repeatPlayers",
    "number": 5,
    "section": "problem"
   },
   "source": [
    "---\n",
    "**Problem 5:** The folowing query was designed to identify players with the same name who have played for\n",
    "        the same team:<br>\n",
    "        <pre>\n",
    "        SELECT *\n",
    "        FROM Player P1, PlayedFor R1, Player P2, PlayedFor R2\n",
    "        WHERE R1.pid=P1.pid AND R2.pid=P2.pid\n",
    "        AND R1.tid=R2.tid AND R1.pid<R2.pid AND P1.name=P2.name\n",
    "        GROUP BY P1.pid, P2.pid\n",
    "        </pre>\n",
    "        This query is slow using the default NFL.db. Write a Python3 program to execute and time\n",
    "        this query and the time to save all rows that it returns into list for subsequent processing.\n",
    "        You should verify that your list actually extracts data from the rows. In the cell provided\n",
    "        below give the number of rows returned and the time required (no code please)."
   ]
  },
  {
   "cell_type": "raw",
   "metadata": {
    "case": 0,
    "key": "repeatPlayers",
    "number": 5,
    "section": "answer"
   },
   "source": [
    "Enter all parts of your answer here."
   ]
  },
  {
   "cell_type": "markdown",
   "metadata": {
    "case": 1,
    "key": "repeatPlayers",
    "number": 6,
    "section": "problem"
   },
   "source": [
    "---\n",
    "**Problem 6:** Next try to create and index to improve this query. In the cell provided below give\n",
    "        the \"CREATE INDEX\" statement that you found that provides the best performance. Also include\n",
    "        the number of rows returned and the time required for the query after creating the index\n",
    "        you chose."
   ]
  },
  {
   "cell_type": "raw",
   "metadata": {
    "case": 1,
    "key": "repeatPlayers",
    "number": 6,
    "section": "answer"
   },
   "source": [
    "Enter all parts of your answer here."
   ]
  },
  {
   "cell_type": "markdown",
   "metadata": {},
   "source": [
    "Click [here to submit](http://csbio.unc.edu/mcmillan/index.py?run=PS.upload) your completed problem set.\n",
    "\n",
    "You can submit it as many times as you would like, but only the last submitted version will be graded. If the last submission was after the due date the final score will be reduced accordingly. "
   ]
  }
 ],
 "metadata": {
  "kernelspec": {
   "display_name": "Python 2",
   "language": "python",
   "name": "python2"
  },
  "language_info": {
   "codemirror_mode": {
    "name": "ipython",
    "version": 2
   },
   "file_extension": ".py",
   "mimetype": "text/x-python",
   "name": "python",
   "nbconvert_exporter": "python",
   "pygments_lexer": "ipython2",
   "version": "2.7.16"
  }
 },
 "nbformat": 4,
 "nbformat_minor": 1
}
