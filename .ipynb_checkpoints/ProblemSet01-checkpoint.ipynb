{
 "cells": [
  {
   "cell_type": "markdown",
   "metadata": {
    "course": "Comp521F19",
    "problemset": 1,
    "section": "header"
   },
   "source": [
    "<div style=\"text-align: center;\">\n",
    "<h1>The University of North Carolina at Chapel Hill</h1>\n",
    "<h1>Comp 521 Files and Databases - Fall 2019</h1>\n",
    "<h1 style=\"font-size: 250%;\">Problem Set #1</h1>\n",
    "<h1 style=\"font-size: 200%;\">Version 1.0</h1>\n",
    "<h1>Issued Tuesday 09/03/2019; Due Tuesday 09/17/2019</h1>\n",
    "</div>\n",
    "\n",
    "**Homework Information:** The answer cells in this notebook contain metadata that enable it to be automatically parsed. Thus, you must enter your answers *only* into the cells provided. Do not delete any answer cell and/or add a new one to replace it. If you do so by accident, download a new copy of the problem set's notebook and transfer your answers into it. You can introduce new 'coding' cells in an effort to test approaches to problems, however, these introduced cells will not be considered when grading.\n",
    "\n",
    "Finally, some of the problems are probably too long to be done the night before the due date, so plan accordingly. Late problem sets will be accepted, but your lowest problem-set grade will be dropped. Feel free to get help from others, but the work you submit in should be your own."
   ]
  },
  {
   "cell_type": "code",
   "execution_count": 1,
   "metadata": {
    "collapsed": true,
    "section": "signature"
   },
   "outputs": [],
   "source": [
    "# Do not make any edits in this cell!\n",
    "class Student:\n",
    "    first = \"Adam\"\n",
    "    last = \"Alston\"\n",
    "    onyen = \"aalston9\"\n",
    "    pid = \"730015776\""
   ]
  },
  {
   "cell_type": "markdown",
   "metadata": {
    "section": "setup"
   },
   "source": [
    "The following questions relate to the design of a schema for an NFL database.\n",
    "Your primary data is provided in two downloadable text files. The first, is called <a href=\"https://csbio.unc.edu/mcmillan/Media/NFLrosters.csv\">\"NFLrosters.csv\"</a> and has the following format:\n",
    "<pre><code style=\"font-size:80%;\">\n",
    "team,year,jersey,name,position,height,weight,games,starts,college,dob,draftYear,draftRound,draftOrder,draftTeam\n",
    "carolina-panthers,2003,52,Brian Allen,LB,6-3,215,14,4,Florida State,--,--,--,--,--\n",
    "carolina-panthers,2003,80,Eugene Baker,WR,6-2,183,1,0,Kent State,1976-03-18,1999,5,164,atlanta-falcons\n",
    "carolina-panthers,2003,47,Marco Battaglia,TE,6-3,250,2,0,Rutgers,1973-01-25,1996,2,39,cincinnati-bengals\n",
    "carolina-panthers,2003,--,Nathan Black,WR,6-0,190,0,0,Northwestern State,1978-06-20,--,--,--,--\n",
    "carolina-panthers,2003,28,Colin Branch,DB,6-0,203,16,0,Stanford,1980-03-02,2003,4,119,carolina-panthers\n",
    "carolina-panthers,2003,79,Doug Brzezinski,OG,6-4,305,1,0,Boston College,1976-03-11,1999,3,64,philadelphia-eagles\n",
    "carolina-panthers,2003,99,Brentson Buckner,DT,6-2,305,12,12,Clemson,1971-09-30,1994,2,50,pittsburgh-steelers\n",
    "carolina-panthers,2003,98,Shane Burton,DE,6-6,305,16,4,Tennessee,1974-01-18,1996,5,150,miami-dolphins\n",
    "carolina-panthers,2003,59,Mike Caldwell,LB,6-2,200,9,0,Middle Tennessee State,--,--,--,--,--\n",
    "carolina-panthers,2003,50,Vinny Ciurciu,LB,6-0,235,2,0,Boston College,1980-05-02,--,--,--,--\n",
    "carolina-panthers,2003,40,Jarrod Cooper,DB,6-0,210,12,0,Kansas State,1978-03-31,2001,5,143,carolina-panthers\n",
    "                 .\n",
    "                 .\n",
    "                 .\n",
    "    </code></pre>\n",
    "A roster is a list of the players on a given team in a given year.\n",
    "       Each row also includes information about the player, such as their jersey number, position,\n",
    "       and the number of games that they played in and started in the given year.\n",
    "       It also includes information related the college they attended and their draft order if applicable.\n",
    "The second file is called <a href=\"https://csbio.unc.edu/mcmillan/Media/NFLgames.csv\">\"NFLgames.csv\"</a> and has the following format:\n",
    "<pre><code style=\"font-size:80%;\">\n",
    "season,week,date,visitor,vScore,home,hScore,notes\n",
    "2018,1,2018-09-06,atlanta-falcons,12,philadelphia-eagles,18,\n",
    "2018,1,2018-09-09,buffalo-bills,3,baltimore-ravens,47,\n",
    "2018,1,2018-09-09,cincinnati-bengals,34,indianapolis-colts,23,\n",
    "2018,1,2018-09-09,pittsburgh-steelers,21,cleveland-browns,21,\n",
    "2018,1,2018-09-09,houston-texans,20,new-england-patriots,27,\n",
    "2018,1,2018-09-09,jacksonville-jaguars,20,new-york-giants,15,\n",
    "2018,1,2018-09-09,tennessee-titans,20,miami-dolphins,27,\n",
    "2018,1,2018-09-09,san-francisco-49ers,16,minnesota-vikings,24,\n",
    "2018,1,2018-09-09,tampa-bay-buccaneers,48,new-orleans-saints,40,\n",
    "2018,1,2018-09-09,kansas-city-chiefs,38,los-angeles-chargers,28,\n",
    "                 .\n",
    "                 .\n",
    "                 .\n",
    "    </code></pre>\n",
    "It provides the final score for every game played during the season.\n",
    "    The visiting and home teams names are also provided.\n",
    "    Regular season games are denoted by their week number, whereas the 'week' indicates\n",
    "    the playoff round in the post-season.\n",
    "    Special notes are included for some games."
   ]
  },
  {
   "cell_type": "markdown",
   "metadata": {
    "section": "setup"
   },
   "source": [
    "Assume a database with tables for the following entities: <b>Player</b>, <b>Team</b>, <b>Game</b>, and <b>Draft</b>.\n",
    "You can assume that each player is assigned a <em>player id</em> (PID) as a primary key.\n",
    "Likewise, each team is assigned a <em>team id</em> (TID) as a primary key.\n",
    "The primary key of the Game relation is a composite of the season, week, and hometeam's TID.\n",
    "The primary key of the Draft relation is a composite of the draftYear and draftOrder."
   ]
  },
  {
   "cell_type": "markdown",
   "metadata": {
    "case": 0,
    "number": 1,
    "section": "problem"
   },
   "source": [
    "---\n",
    "**Problem 1:** What columns from NFLroster.csv and other Entities would you include in the Player table?"
   ]
  },
  {
   "cell_type": "raw",
   "metadata": {
    "case": 0,
    "key": "entity",
    "number": 1,
    "section": "answer"
   },
   "source": [
    "name,height,weight,college,dob"
   ]
  },
  {
   "cell_type": "markdown",
   "metadata": {
    "case": 1,
    "number": 2,
    "section": "problem"
   },
   "source": [
    "---\n",
    "**Problem 2:** How many distinct entries would be populated in the Player relation using NFLroster.csv?"
   ]
  },
  {
   "cell_type": "raw",
   "metadata": {
    "case": 1,
    "key": "entity",
    "number": 2,
    "section": "answer"
   },
   "source": [
    "21861"
   ]
  },
  {
   "cell_type": "markdown",
   "metadata": {
    "case": 3,
    "number": 3,
    "section": "problem"
   },
   "source": [
    "---\n",
    "**Problem 3:** What columns, either in part or in full, from NFLroster.csv would you include in the Team table? Consider that teams have historically changed both locations and mascots."
   ]
  },
  {
   "cell_type": "raw",
   "metadata": {
    "case": 3,
    "key": "entity",
    "number": 3,
    "section": "answer"
   },
   "source": [
    "team (location and mascot)"
   ]
  },
  {
   "cell_type": "markdown",
   "metadata": {
    "case": 10,
    "number": 4,
    "section": "problem"
   },
   "source": [
    "---\n",
    "**Problem 4:** What component of the Game table's composite key is a foreign key from another table? What does this imply with regard to inserting new Game table rows?"
   ]
  },
  {
   "cell_type": "raw",
   "metadata": {
    "case": 10,
    "key": "entity",
    "number": 4,
    "section": "answer"
   },
   "source": [
    "htid An entry for a team with TID must exist to create a game with that hometeam id"
   ]
  },
  {
   "cell_type": "markdown",
   "metadata": {
    "case": 12,
    "number": 5,
    "section": "problem"
   },
   "source": [
    "---\n",
    "**Problem 5:** In how many regular season games did the home team win?"
   ]
  },
  {
   "cell_type": "raw",
   "metadata": {
    "case": 12,
    "key": "entity",
    "number": 5,
    "section": "answer"
   },
   "source": [
    "5907\n",
    "# games where the home score was greater than the visitor score"
   ]
  },
  {
   "cell_type": "markdown",
   "metadata": {
    "case": 14,
    "number": 6,
    "section": "problem"
   },
   "source": [
    "---\n",
    "**Problem 6:** How many entries in NFLroster.csv differ from another entry by only the year?"
   ]
  },
  {
   "cell_type": "raw",
   "metadata": {
    "case": 14,
    "key": "entity",
    "number": 6,
    "section": "answer"
   },
   "source": [
    "18960\n",
    "# calculated rows in csv and then subtracted duplicate rows of every column except for year"
   ]
  },
  {
   "cell_type": "markdown",
   "metadata": {
    "section": "setup"
   },
   "source": [
    "---\n",
    "The next series of question consider the two relations <b>PlayedFor</b> and <b>LocatedAt</b>.\n",
    "PlayedFor has a primary key composed of a season-year, a PID, and a TID, as well as other attributes.\n",
    "LocatedAt has a primary key composed of a season-year, and a TID, as well as other attributes."
   ]
  },
  {
   "cell_type": "markdown",
   "metadata": {
    "case": 3,
    "number": 7,
    "section": "problem"
   },
   "source": [
    "---\n",
    "**Problem 7:** How would you modify or extend the LocatedAt and/or Team tables to allow Teams to change mascots?"
   ]
  },
  {
   "cell_type": "raw",
   "metadata": {
    "case": 3,
    "key": "relation",
    "number": 7,
    "section": "answer"
   },
   "source": [
    "I would modify the Team table to add a Mascot field. Mascot should be independent of location.\n",
    "ALTER TABLE Team\n",
    "ADD Mascot TEXT;"
   ]
  },
  {
   "cell_type": "markdown",
   "metadata": {
    "case": 4,
    "number": 8,
    "section": "problem"
   },
   "source": [
    "---\n",
    "**Problem 8:** Based on the data provided, estimate the size of the PlayedFor table. Explain your estimate."
   ]
  },
  {
   "cell_type": "raw",
   "metadata": {
    "case": 4,
    "key": "relation",
    "number": 8,
    "section": "answer"
   },
   "source": [
    "98452\n",
    "# The PlayedFor tabel should have an entry for every record in the NFLrosters file"
   ]
  },
  {
   "cell_type": "markdown",
   "metadata": {
    "case": 5,
    "number": 9,
    "section": "problem"
   },
   "source": [
    "---\n",
    "**Problem 9:** Based on the data provided, estimate the size of the LocatedAt table. Explain your estimate."
   ]
  },
  {
   "cell_type": "raw",
   "metadata": {
    "case": 5,
    "key": "relation",
    "number": 9,
    "section": "answer"
   },
   "source": [
    "1230\n",
    "# 32 teams, 41 years, every team should have an entry for every year\n",
    "# estimate=32*41 "
   ]
  },
  {
   "cell_type": "markdown",
   "metadata": {
    "case": 7,
    "number": 10,
    "section": "problem"
   },
   "source": [
    "---\n",
    "**Problem 10:** Budding DBA Lee Hart has suggested placing the \"position\" field in the PlayedFor table rather than the Player table. What are the advantages or disadvantages of this modification?"
   ]
  },
  {
   "cell_type": "raw",
   "metadata": {
    "case": 7,
    "key": "relation",
    "number": 10,
    "section": "answer"
   },
   "source": [
    "Advantages: Depending on which team the player is playing for, they can change positions\n",
    "Disadvantages: The position is not distinctly atttached to the player but instead the player's stint with a team\n",
    "\n",
    "# Something that I did consider was that players sometimes play more than one position at the same time. Neither before or after the modification could this property be specified in either table. So I think that is something to consider moving forward."
   ]
  },
  {
   "cell_type": "markdown",
   "metadata": {
    "case": 8,
    "number": 11,
    "section": "problem"
   },
   "source": [
    "---\n",
    "**Problem 11:** Budding DBA Lee Hart has suggested placing the \"jersey\" field in the PlayedFor table rather than the Player table. What are the advantages or disadvantages of this modification?"
   ]
  },
  {
   "cell_type": "raw",
   "metadata": {
    "case": 8,
    "key": "relation",
    "number": 11,
    "section": "answer"
   },
   "source": [
    "Advantages: When a player switches teams, they do not always keep the same number so this would allow for the player to change numbers if they weren't allowed to before the modication\n",
    "Disadvantages: Sometimes multiple people on the same team have the same number. You could no longer use the jersey number as an identifier of the player. You would need more information to go along with it."
   ]
  },
  {
   "cell_type": "markdown",
   "metadata": {
    "case": 14,
    "number": 12,
    "section": "problem"
   },
   "source": [
    "---\n",
    "**Problem 12:** A roster player might become injured and spend part of a season in a special injured reserve list. How would you modify the given schema to capture this relation?"
   ]
  },
  {
   "cell_type": "raw",
   "metadata": {
    "case": 14,
    "key": "relation",
    "number": 12,
    "section": "answer"
   },
   "source": [
    "I would add a column to the PlayedFor table caller ir (injured reserve) and update that column accordingly.\n",
    "ALTER TABLE PlayedFor\n",
    "ADD COLUMN ir: TEXT"
   ]
  },
  {
   "cell_type": "markdown",
   "metadata": {
    "section": "setup"
   },
   "source": [
    "...\n",
    "For the next series of questions enter valid SQL statements.\n",
    "In some cases you will need to reference PIDs and TIDs using the helper functions\n",
    "getPID(name,dob,college) and getTID(teamName,year) respectively."
   ]
  },
  {
   "cell_type": "markdown",
   "metadata": {
    "case": 1,
    "number": 13,
    "section": "problem"
   },
   "source": [
    "---\n",
    "**Problem 13:** Give the CREATE TABLE command for your implementation of the Team table. Include all primary and foriegn key declarions as well as any unique constraints."
   ]
  },
  {
   "cell_type": "raw",
   "metadata": {
    "case": 1,
    "key": "sql",
    "number": 13,
    "section": "answer"
   },
   "source": [
    "CREATE TABLE Team( \n",
    "    tid INTEGER PRIMARY KEY, \n",
    "    mascot TEXT DEFAULT '' \n",
    ");"
   ]
  },
  {
   "cell_type": "markdown",
   "metadata": {
    "case": 2,
    "number": 14,
    "section": "problem"
   },
   "source": [
    "---\n",
    "**Problem 14:** Give the CREATE TABLE command for your implementation of the Game table. Include all primary and foriegn key declarions as well as any unique constraints."
   ]
  },
  {
   "cell_type": "raw",
   "metadata": {
    "case": 2,
    "key": "sql",
    "number": 14,
    "section": "answer"
   },
   "source": [
    "CREATE TABLE Game( \n",
    "    season INTEGER, \n",
    "    week TEXT, \n",
    "    date DATE, \n",
    "    vtid INTEGER, \n",
    "    vscore INTEGER, \n",
    "    htid INTEGER, \n",
    "    hscore INTEGER, \n",
    "    notes TEXT, \n",
    "    FOREIGN KEY(vtid) REFERENCES Team(tid), \n",
    "    FOREIGN KEY(htid) REFERENCES Team(tid), \n",
    "    PRIMARY KEY(season,week,htid), \n",
    ");"
   ]
  },
  {
   "cell_type": "markdown",
   "metadata": {
    "case": 3,
    "number": 15,
    "section": "problem"
   },
   "source": [
    "---\n",
    "**Problem 15:** Give the CREATE TABLE command for your implementation of the Draft table. Include all primary and foriegn key declarions as well as any unique constraints."
   ]
  },
  {
   "cell_type": "raw",
   "metadata": {
    "case": 3,
    "key": "sql",
    "number": 15,
    "section": "answer"
   },
   "source": [
    "CREATE TABLE Draft( \n",
    "    pid INTEGER, \n",
    "    year INTEGER, \n",
    "    round INTEGER, \n",
    "    overall INTEGER, \n",
    "    tid INTEGER, \n",
    "    FOREIGN KEY(pid) REFERENCES Team(player), \n",
    "    FOREIGN KEY(tid) REFERENCES Team(tid), \n",
    "    PRIMARY KEY(year, overall) \n",
    ");"
   ]
  },
  {
   "cell_type": "markdown",
   "metadata": {
    "case": 6,
    "number": 16,
    "section": "problem"
   },
   "source": [
    "---\n",
    "**Problem 16:** Give an INSERT command that adds 'Jacoby Brissett' to your Player table. Use actual data from NFLroster.csv."
   ]
  },
  {
   "cell_type": "raw",
   "metadata": {
    "case": 6,
    "key": "sql",
    "number": 16,
    "section": "answer"
   },
   "source": [
    "INSERT INTO Player(pid, name, dob, height, weight, college) \n",
    "VALUES (getPID('Jacoby Brissett', '1993-12-11', 'North Carolina State'), \n",
    "        'Jacoby Brissett', '1993-12-11', '6-4', '231', 'North Carolina State')"
   ]
  },
  {
   "cell_type": "markdown",
   "metadata": {
    "case": 8,
    "number": 17,
    "section": "problem"
   },
   "source": [
    "---\n",
    "**Problem 17:** Give INSERT commands that add 'Los Vegas Raiders' to your Team and LocatedAt tables. Assume that a TID is automatically created on any insert to the Team table."
   ]
  },
  {
   "cell_type": "raw",
   "metadata": {
    "case": 8,
    "key": "sql",
    "number": 17,
    "section": "answer"
   },
   "source": [
    "INSERT INTO Team\n",
    "VALUES (TID,'Los Vegas Raiders','Raiders')\n",
    "INSERT INTO LocatedAt\n",
    "VALUES (2020,TID)"
   ]
  },
  {
   "cell_type": "markdown",
   "metadata": {
    "case": 9,
    "number": 18,
    "section": "problem"
   },
   "source": [
    "---\n",
    "**Problem 18:** Give INSERT commands that add 'Baltimore Colts' to your Team and LocatedAt tables. Assume that a TID is automatically created on any insert to the Team table."
   ]
  },
  {
   "cell_type": "raw",
   "metadata": {
    "case": 9,
    "key": "sql",
    "number": 18,
    "section": "answer"
   },
   "source": [
    "INSERT INTO Team\n",
    "    VALUES (TID, 'baltimore-colts','colts')\n",
    "INSERT INTO LocatedAt\n",
    "    VALUES (TID,1960,'Baltimore')"
   ]
  },
  {
   "cell_type": "markdown",
   "metadata": {
    "case": 13,
    "number": 19,
    "section": "problem"
   },
   "source": [
    "---\n",
    "**Problem 19:** Give an INSERT command that adds the score of 2012 American Conference Championship (played in 2013) to the Game tables. Use actual data from NFLgames.csv."
   ]
  },
  {
   "cell_type": "raw",
   "metadata": {
    "case": 13,
    "key": "sql",
    "number": 19,
    "section": "answer"
   },
   "source": [
    "INSERT INTO Game\n",
    "    VALUES (2012,'Conference Championship',TID,2013-01-20,vTID,28,13,NaN)"
   ]
  },
  {
   "cell_type": "markdown",
   "metadata": {
    "case": 15,
    "number": 20,
    "section": "problem"
   },
   "source": [
    "---\n",
    "**Problem 20:** Give INSERT commands that add records for 'Jason Myers' to the PlayedFor tables. Use actual data from NFLroster.csv."
   ]
  },
  {
   "cell_type": "raw",
   "metadata": {
    "case": 15,
    "key": "sql",
    "number": 20,
    "section": "answer"
   },
   "source": [
    "INSERT INTO PlayedFor (pid,tid,year,position,jersey,games,starts)\n",
    "    VALUES (PID,TID,2015,'K',2,16,0),\n",
    "    VALUES (PID,TID,2015,'K',2,16,0),\n",
    "    VALUES (PID,TID,2015,'K',2,6,0),\n",
    "    VALUES (PID,TID,2015,'K',2,16,0),\n",
    "    VALUES (PID,TID,2019,'K',5,0,0)"
   ]
  },
  {
   "cell_type": "markdown",
   "metadata": {},
   "source": [
    "Click [here to submit](http://csbio.unc.edu/mcmillan/index.py?run=PS.upload) your completed problem set.\n",
    "\n",
    "You can submit it as many times as you would like, but only the last submitted version will be graded. If the last submission was after the due date the final score will be reduced accordingly. "
   ]
  },
  {
   "cell_type": "code",
   "execution_count": null,
   "metadata": {},
   "outputs": [],
   "source": []
  }
 ],
 "metadata": {
  "kernelspec": {
   "display_name": "Python 2",
   "language": "python",
   "name": "python2"
  },
  "language_info": {
   "codemirror_mode": {
    "name": "ipython",
    "version": 2
   },
   "file_extension": ".py",
   "mimetype": "text/x-python",
   "name": "python",
   "nbconvert_exporter": "python",
   "pygments_lexer": "ipython2",
   "version": "2.7.16"
  }
 },
 "nbformat": 4,
 "nbformat_minor": 1
}
