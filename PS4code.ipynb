{
 "cells": [
  {
   "cell_type": "markdown",
   "metadata": {
    "course": "Comp521F19",
    "problemset": 4,
    "section": "header"
   },
   "source": [
    "<div style=\"text-align: center;\">\n",
    "<h1>The University of North Carolina at Chapel Hill</h1>\n",
    "<h1>Comp 521 Files and Databases - Fall 2019</h1>\n",
    "<h1 style=\"font-size: 250%;\">Problem Set #4</h1>\n",
    "<h1 style=\"font-size: 200%;\">Version 1.1</h1>\n",
    "<h1>Issued Tuesday 10/29/2019; Due Thursday 11/07/2019</h1>\n",
    "</div>\n",
    "\n",
    "**Homework Information:** The answer cells in this notebook contain metadata that enable it to be automatically parsed. Thus, you must enter your answers *only* into the cells provided. Do not delete any answer cell and/or add a new one to replace it. If you do so by accident, download a new copy of the problem set's notebook and transfer your answers into it. You can introduce new 'coding' cells in an effort to test approaches to problems, however, these introduced cells will not be considered when grading.\n",
    "\n",
    "Finally, some of the problems are probably too long to be done the night before the due date, so plan accordingly. Late problem sets will be accepted, but your lowest problem-set grade will be dropped. Feel free to get help from others, but the work you submit in should be your own."
   ]
  },
  {
   "cell_type": "code",
   "execution_count": 1,
   "metadata": {
    "collapsed": true,
    "section": "signature"
   },
   "outputs": [],
   "source": [
    "# Do not make any edits in this cell!\n",
    "class Student:\n",
    "    first = \"Adam\"\n",
    "    last = \"Alston\"\n",
    "    onyen = \"aalston9\"\n",
    "    pid = \"730015776\""
   ]
  },
  {
   "cell_type": "markdown",
   "metadata": {
    "section": "setup"
   },
   "source": [
    "By default, SQL only builds ISAM-tree index. In the following questions,\n",
    "you will need to write Python3 programs to simulate a hash index on the *Game* table\n",
    "in the <a href=\"http://csbio.unc.edu/mcmillan/Media/NFL.db\" download>NFL.db</a> database.\n",
    "A function to get the pageid for records in *Game* table is\n",
    "provided:\n",
    "\n",
    "<pre>\n",
    "    def getGamePageId(htid, year):\n",
    "        htid, year = str(htid), str(year)[3:]\n",
    "        return int(htid + year)\n",
    "</pre>\n",
    "\n",
    "Suppose each *(htid, vtid, pageId)* tuple is 12 bytes and a single page can store at most 340\n",
    "*(htid, vtid, pageId)* pairs. The hash index is on *(htid, vtid)* and the hash function\n",
    "is (3*htid+vtid) % 32"
   ]
  },
  {
   "cell_type": "markdown",
   "metadata": {
    "case": 0,
    "key": "Game",
    "number": 1,
    "section": "problem"
   },
   "source": [
    "---\n",
    "**Problem 1:** How many buckets will overflow?"
   ]
  },
  {
   "cell_type": "raw",
   "metadata": {
    "case": 0,
    "key": "Game",
    "number": 1,
    "section": "answer"
   },
   "source": [
    "10"
   ]
  },
  {
   "cell_type": "code",
   "execution_count": 1,
   "metadata": {},
   "outputs": [
    {
     "name": "stdout",
     "output_type": "stream",
     "text": [
      "1, 370\n",
      "5, 368\n",
      "6, 368\n",
      "11, 353\n",
      "16, 386\n",
      "17, 356\n",
      "18, 391\n",
      "20, 355\n",
      "28, 441\n",
      "31, 422\n"
     ]
    }
   ],
   "source": [
    "# (3*htid+vtid) % 32 == key\n",
    "# import collections defaultdict type int; any time I create a key it will be initialized to 0\n",
    "\n",
    "import sqlite3\n",
    "db = sqlite3.connect(\"NFL.db\")\n",
    "db.row_factory = sqlite3.Row\n",
    "cursor = db.cursor()\n",
    "\n",
    "from collections import defaultdict\n",
    "pair = defaultdict(int)\n",
    "\n",
    "cursor.execute(\"\"\"SELECT htid, vtid FROM Game G\"\"\")\n",
    "for row in cursor.fetchall():\n",
    "    htid = row['htid']\n",
    "    vtid = row['vtid']\n",
    "    \n",
    "    hashKey = (3*htid+vtid) % 32\n",
    "    \n",
    "    if hashKey not in pair:\n",
    "        # if the line isn't a duplicate, initialize the number of times it has appeared\n",
    "        pair[hashKey] = 1\n",
    "    else:\n",
    "        # the line is a duplicate, increment the amount of times it appears\n",
    "        pair[hashKey] += 1\n",
    "        \n",
    "appearances = list(pair.keys())\n",
    "appearances.sort()\n",
    "\n",
    "for line in appearances:\n",
    "    if pair[line] > 340:\n",
    "        # print hash followed by the number of times it appears\n",
    "        print(\"%d, %d\" % (line, pair[line]))"
   ]
  },
  {
   "cell_type": "code",
   "execution_count": 2,
   "metadata": {
    "scrolled": true
   },
   "outputs": [
    {
     "data": {
      "application/vnd.jupyter.widget-view+json": {
       "model_id": "f3ad82cbfcf04569b4f0e68fc5e9d8ad",
       "version_major": 2,
       "version_minor": 0
      },
      "text/plain": [
       "VkJveChjaGlsZHJlbj0oVGV4dGFyZWEodmFsdWU9dScnLCBkZXNjcmlwdGlvbj11J1NRTDonLCBsYXlvdXQ9TGF5b3V0KGhlaWdodD11JzEwMHB4Jywgd2lkdGg9dSc2MDBweCcpKSwgSEJveCjigKY=\n"
      ]
     },
     "metadata": {},
     "output_type": "display_data"
    }
   ],
   "source": [
    "import iSQL\n",
    "\n",
    "query = iSQL.parser(\"NFL.db\")"
   ]
  },
  {
   "cell_type": "markdown",
   "metadata": {
    "case": 1,
    "key": "Game",
    "number": 2,
    "section": "problem"
   },
   "source": [
    "---\n",
    "**Problem 2:** What is the average number of (htid,vtid, pageId) tuples in buckets?"
   ]
  },
  {
   "cell_type": "raw",
   "metadata": {
    "case": 1,
    "key": "Game",
    "number": 2,
    "section": "answer"
   },
   "source": [
    "318"
   ]
  },
  {
   "cell_type": "code",
   "execution_count": 13,
   "metadata": {},
   "outputs": [
    {
     "name": "stdout",
     "output_type": "stream",
     "text": [
      "10185\n"
     ]
    }
   ],
   "source": [
    "import sqlite3\n",
    "db = sqlite3.connect(\"NFL.db\")\n",
    "db.row_factory = sqlite3.Row\n",
    "cursor = db.cursor()\n",
    "\n",
    "from collections import defaultdict\n",
    "pair = defaultdict(int)\n",
    "\n",
    "total=0\n",
    "\n",
    "def getGamePageId(htid, year):\n",
    "        htid, year = str(htid), str(year)[3:]\n",
    "        return int(htid + year)\n",
    "\n",
    "cursor.execute(\"\"\"SELECT htid, vtid, season FROM Game G\"\"\")\n",
    "for row in cursor.fetchall():\n",
    "    htid = row['htid']\n",
    "    vtid = row['vtid']\n",
    "    year = row['season']\n",
    "    \n",
    "    gpid=getGamePageId(htid,year)\n",
    "    tuple = (htid, vtid)\n",
    "        \n",
    "    if hashKey not in pair:\n",
    "        # if the line isn't a duplicate, initialize the number of times it has appeared\n",
    "        pair[hashKey] = 1\n",
    "    else:\n",
    "        # the line is a duplicate, increment the amount of times it appears\n",
    "        pair[hashKey] += 1\n",
    "\n",
    "for row in pair:\n",
    "    total += pair[row]\n",
    "\n",
    "print (total/32"
   ]
  },
  {
   "cell_type": "markdown",
   "metadata": {
    "case": 2,
    "key": "Game",
    "number": 3,
    "section": "problem"
   },
   "source": [
    "---\n",
    "**Problem 3:** Suppose a page can hold at most 128 records for Game table, on average how many pages you need to fetch to join the game table and team table for a specific pair of teams?"
   ]
  },
  {
   "cell_type": "raw",
   "metadata": {
    "case": 2,
    "key": "Game",
    "number": 3,
    "section": "answer"
   },
   "source": [
    "11.2064700285"
   ]
  },
  {
   "cell_type": "code",
   "execution_count": 68,
   "metadata": {},
   "outputs": [
    {
     "name": "stdout",
     "output_type": "stream",
     "text": [
      "1051\n",
      "11.2064700285\n"
     ]
    }
   ],
   "source": [
    "import sqlite3\n",
    "db = sqlite3.connect(\"NFL.db\")\n",
    "db.row_factory = sqlite3.Row\n",
    "cursor = db.cursor()\n",
    "\n",
    "from collections import defaultdict\n",
    "pair = defaultdict(int)\n",
    "\n",
    "pages=0\n",
    "\n",
    "def getGamePageId(htid, year):\n",
    "        htid, year = str(htid), str(year)[3:]\n",
    "        return int(htid + year)\n",
    "\n",
    "cursor.execute(\"\"\"SELECT htid, vtid, season FROM Game G\"\"\")\n",
    "for row in cursor.fetchall():\n",
    "    htid = row['htid']\n",
    "    vtid = row['vtid']\n",
    "    year = row['season']\n",
    "    \n",
    "    gpid=getGamePageId(htid,year)\n",
    "    tuple = (htid, vtid)\n",
    "        \n",
    "    if tuple not in pair:\n",
    "        pair[tuple] = set()\n",
    "        pair[tuple].add(gpid)\n",
    "    else:\n",
    "        pair[tuple].add(gpid)\n",
    "        \n",
    "print(len(pair))\n",
    "\n",
    "for (e1,e2) in pair: \n",
    "    pages += len(pair[(e1,e2)])\n",
    "\n",
    "print(pages/float(len(pair)))*2"
   ]
  },
  {
   "cell_type": "markdown",
   "metadata": {
    "section": "setup"
   },
   "source": [
    "In the following problems, you will need to write Python3 programs to\n",
    "           use extendible hashing for the table from part 1. The hash-index is\n",
    "           still on *(htid, vtid)* and uses the same hash function in the Game table."
   ]
  },
  {
   "cell_type": "markdown",
   "metadata": {
    "case": 0,
    "key": "Game",
    "number": 4,
    "section": "problem"
   },
   "source": [
    "---\n",
    "**Problem 4:** What is the size of the directory in the extendible hash?"
   ]
  },
  {
   "cell_type": "raw",
   "metadata": {
    "case": 0,
    "key": "Game",
    "number": 4,
    "section": "answer"
   },
   "source": [
    "64"
   ]
  },
  {
   "cell_type": "code",
   "execution_count": 161,
   "metadata": {},
   "outputs": [
    {
     "name": "stdout",
     "output_type": "stream",
     "text": [
      "42\n"
     ]
    },
    {
     "ename": "TypeError",
     "evalue": "'int' object is not callable",
     "output_type": "error",
     "traceback": [
      "\u001b[0;31m----------------------------------------------------------------------\u001b[0m",
      "\u001b[0;31mTypeError\u001b[0m                            Traceback (most recent call last)",
      "\u001b[0;32m<ipython-input-161-17d250798d19>\u001b[0m in \u001b[0;36m<module>\u001b[0;34m()\u001b[0m\n\u001b[1;32m     42\u001b[0m \u001b[0;31m#     count+=\u001b[0m\u001b[0;34m\u001b[0m\u001b[0;34m\u001b[0m\u001b[0m\n\u001b[1;32m     43\u001b[0m \u001b[0;34m\u001b[0m\u001b[0m\n\u001b[0;32m---> 44\u001b[0;31m \u001b[0;32mprint\u001b[0m \u001b[0;34m(\u001b[0m\u001b[0mmax\u001b[0m\u001b[0;34m(\u001b[0m\u001b[0mzip\u001b[0m\u001b[0;34m(\u001b[0m\u001b[0mpair\u001b[0m\u001b[0;34m.\u001b[0m\u001b[0mvalues\u001b[0m\u001b[0;34m(\u001b[0m\u001b[0;34m)\u001b[0m\u001b[0;34m,\u001b[0m \u001b[0mpair\u001b[0m\u001b[0;34m.\u001b[0m\u001b[0mkeys\u001b[0m\u001b[0;34m(\u001b[0m\u001b[0;34m)\u001b[0m\u001b[0;34m)\u001b[0m\u001b[0;34m)\u001b[0m\u001b[0;34m)\u001b[0m\u001b[0;34m\u001b[0m\u001b[0m\n\u001b[0m\u001b[1;32m     45\u001b[0m \u001b[0;32mprint\u001b[0m \u001b[0;34m(\u001b[0m\u001b[0mmin\u001b[0m\u001b[0;34m(\u001b[0m\u001b[0mzip\u001b[0m\u001b[0;34m(\u001b[0m\u001b[0mpair\u001b[0m\u001b[0;34m.\u001b[0m\u001b[0mvalues\u001b[0m\u001b[0;34m(\u001b[0m\u001b[0;34m)\u001b[0m\u001b[0;34m,\u001b[0m \u001b[0mpair\u001b[0m\u001b[0;34m.\u001b[0m\u001b[0mkeys\u001b[0m\u001b[0;34m(\u001b[0m\u001b[0;34m)\u001b[0m\u001b[0;34m)\u001b[0m\u001b[0;34m)\u001b[0m\u001b[0;34m)\u001b[0m\u001b[0;34m\u001b[0m\u001b[0m\n\u001b[1;32m     46\u001b[0m \u001b[0;34m\u001b[0m\u001b[0m\n",
      "\u001b[0;31mTypeError\u001b[0m: 'int' object is not callable"
     ]
    }
   ],
   "source": [
    "import sqlite3\n",
    "db = sqlite3.connect(\"NFL.db\")\n",
    "db.row_factory = sqlite3.Row\n",
    "cursor = db.cursor()\n",
    "\n",
    "from collections import defaultdict\n",
    "pair = {}\n",
    "tids = {}\n",
    "\n",
    "cursor.execute(\"\"\"SELECT htid, vtid FROM Game G\"\"\")\n",
    "for row in cursor.fetchall():\n",
    "    htid = row['htid']\n",
    "    vtid = row['vtid']\n",
    "        \n",
    "    hashKey = (3*htid+vtid) % 32\n",
    "    \n",
    "    if hashKey not in pair:\n",
    "        pair[hashKey] = 1\n",
    "        tids[hashKey] = [(htid,vtid)]\n",
    "    else:\n",
    "        pair[hashKey] += 1  \n",
    "        tids[hashKey].append((htid,vtid))        \n",
    "        \n",
    "for k,c in pair.iteritems():\n",
    "    if c > 340:\n",
    "        lists = list(tids[k])\n",
    "        tids[k] = []\n",
    "        for item in lists:\n",
    "            (htid, vtid) = item\n",
    "            new = (3*htid+vtid) % 64\n",
    "\n",
    "            if new not in tids:\n",
    "                tids[new] = [(htid,vtid)]\n",
    "            else:\n",
    "                tids[new].append((htid,vtid))\n",
    "        \n",
    "print(len(tids))\n",
    "\n",
    "# print(pair)\n",
    "# count=0\n",
    "# for line in pair:\n",
    "#     count+= pair[line]\n",
    "\n",
    "print (max(zip(pair.values(), pair.keys())))\n",
    "print (min(zip(pair.values(), pair.keys())))\n",
    "\n",
    "# find which bucket length is equivalent to the key"
   ]
  },
  {
   "cell_type": "markdown",
   "metadata": {
    "case": 1,
    "key": "Game",
    "number": 5,
    "section": "problem"
   },
   "source": [
    "---\n",
    "**Problem 5:** How many buckets are split?"
   ]
  },
  {
   "cell_type": "raw",
   "metadata": {
    "case": 1,
    "key": "Game",
    "number": 5,
    "section": "answer"
   },
   "source": [
    "10"
   ]
  },
  {
   "cell_type": "markdown",
   "metadata": {
    "case": 2,
    "key": "Game",
    "number": 6,
    "section": "problem"
   },
   "source": [
    "---\n",
    "**Problem 6:** How many actual buckets are used in the extendible hash?"
   ]
  },
  {
   "cell_type": "raw",
   "metadata": {
    "case": 2,
    "key": "Game",
    "number": 6,
    "section": "answer"
   },
   "source": [
    "42"
   ]
  },
  {
   "cell_type": "markdown",
   "metadata": {
    "case": 3,
    "key": "Game",
    "number": 7,
    "section": "problem"
   },
   "source": [
    "---\n",
    "**Problem 7:** What is the average, maximum and minimum number of (htid,vtid, pageId) tuples in a bucket? Which bucket has the maximum number of keys? Which bucket has the minimum number of keys?"
   ]
  },
  {
   "cell_type": "raw",
   "metadata": {
    "case": 3,
    "key": "Game",
    "number": 7,
    "section": "answer"
   },
   "source": [
    "avg: 242\n",
    "max: bucket: 3 keys: 337\n",
    "min: bucket: 33 keys: 101"
   ]
  },
  {
   "cell_type": "markdown",
   "metadata": {
    "case": 4,
    "key": "Game",
    "number": 8,
    "section": "problem"
   },
   "source": [
    "---\n",
    "**Problem 8:** Are there any empy buckets? If so, how many?"
   ]
  },
  {
   "cell_type": "raw",
   "metadata": {
    "case": 4,
    "key": "Game",
    "number": 8,
    "section": "answer"
   },
   "source": [
    "22"
   ]
  },
  {
   "cell_type": "markdown",
   "metadata": {},
   "source": [
    "Click [here to submit](http://csbio.unc.edu/mcmillan/index.py?run=PS.upload) your completed problem set.\n",
    "\n",
    "You can submit it as many times as you would like, but only the last submitted version will be graded. If the last submission was after the due date the final score will be reduced accordingly. "
   ]
  }
 ],
 "metadata": {
  "kernelspec": {
   "display_name": "Python 2",
   "language": "python",
   "name": "python2"
  },
  "language_info": {
   "codemirror_mode": {
    "name": "ipython",
    "version": 2
   },
   "file_extension": ".py",
   "mimetype": "text/x-python",
   "name": "python",
   "nbconvert_exporter": "python",
   "pygments_lexer": "ipython2",
   "version": "2.7.16"
  }
 },
 "nbformat": 4,
 "nbformat_minor": 1
}
