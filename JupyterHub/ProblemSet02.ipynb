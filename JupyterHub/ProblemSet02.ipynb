{
 "cells": [
  {
   "cell_type": "markdown",
   "metadata": {
    "course": "Comp521F19",
    "problemset": 2,
    "section": "header"
   },
   "source": [
    "<div style=\"text-align: center;\">\n",
    "<h1>The University of North Carolina at Chapel Hill</h1>\n",
    "<h1>Comp 521 Files and Databases - Fall 2019</h1>\n",
    "<h1 style=\"font-size: 250%;\">Problem Set #2</h1>\n",
    "<h1 style=\"font-size: 200%;\">Version 1.1</h1>\n",
    "<h1>Issued Thursday 09/26/2019; Due Tuesday 10/01/2019</h1>\n",
    "</div>\n",
    "\n",
    "**Homework Information:** The answer cells in this notebook contain metadata that enable it to be automatically parsed. Thus, you must enter your answers *only* into the cells provided. Do not delete any answer cell and/or add a new one to replace it. If you do so by accident, download a new copy of the problem set's notebook and transfer your answers into it. You can introduce new 'coding' cells in an effort to test approaches to problems, however, these introduced cells will not be considered when grading.\n",
    "\n",
    "Finally, some of the problems are probably too long to be done the night before the due date, so plan accordingly. Late problem sets will be accepted, but your lowest problem-set grade will be dropped. Feel free to get help from others, but the work you submit in should be your own."
   ]
  },
  {
   "cell_type": "code",
   "execution_count": 1,
   "metadata": {
    "collapsed": true,
    "section": "signature"
   },
   "outputs": [],
   "source": [
    "# Do not make any edits in this cell!\n",
    "class Student:\n",
    "    first = \"Adam\"\n",
    "    last = \"Alston\"\n",
    "    onyen = \"aalston9\"\n",
    "    pid = \"730015776\""
   ]
  },
  {
   "cell_type": "markdown",
   "metadata": {
    "section": "setup"
   },
   "source": [
    "In the following questions you are asked to write a single SQL query to find the requested results from a database derived from the NFL roster data used in Problem set #1. The database has the following tables:\n",
    "<table style=\"border:none;\"><tbody>\n",
    "        <tr style=\"border:none;\">\n",
    "            <td style=\"padding:0px 20px;border:none;\">\n",
    "            <table style=\"border-collapse: collapse; border: 1px solid black;\"><tbody>\n",
    "            <tr style=\"border-collapse: collapse; border: 1px solid black;\">\n",
    "                <th colspan=\"6\" style=\"text-align:center;\">Player</th></tr>\n",
    "            <tr style=\"border-collapse: collapse; border: 1px solid black;\">\n",
    "                <td style=\"border-collapse: collapse; border: 1px solid black;\"><u>pid</u></td>\n",
    "                <td style=\"border-collapse: collapse; border: 1px solid black;\">name</td>\n",
    "                <td style=\"border-collapse: collapse; border: 1px solid black;\">height</td>\n",
    "                <td style=\"border-collapse: collapse; border: 1px solid black;\">weight</td>\n",
    "                <td style=\"border-collapse: collapse; border: 1px solid black;\">college</td>\n",
    "                <td style=\"border-collapse: collapse; border: 1px solid black;\">dob</td>\n",
    "            </tr>\n",
    "            </tbody></table>\n",
    "            </td>\n",
    "            <td style=\"padding:0px 20px;border:none;\">\n",
    "            <table style=\"border-collapse: collapse; border: 1px solid black;\"><tbody>\n",
    "            <tr style=\"border-collapse: collapse; border: 1px solid black;\">\n",
    "                <th colspan=\"2\" style=\"text-align:center;\">Team</th></tr>\n",
    "            <tr style=\"border-collapse: collapse; border: 1px solid black;\">\n",
    "                <td style=\"border-collapse: collapse; border: 1px solid black;\"><u>tid</u></td>\n",
    "                <td style=\"border-collapse: collapse; border: 1px solid black;\"><u>mascot</u></td>\n",
    "            </tr>\n",
    "            </tbody></table>\n",
    "            </td>\n",
    "            <td style=\"padding:0px 20px;border:none;\">\n",
    "            <table style=\"border-collapse: collapse; border: 1px solid black;\"><tbody>\n",
    "            <tr style=\"border-collapse: collapse; border: 1px solid black;\">\n",
    "                <th colspan=\"7\" style=\"text-align:center;\">PlayedFor</th></tr>\n",
    "            <tr style=\"border-collapse: collapse; border: 1px solid black;\">\n",
    "                <td style=\"border-collapse: collapse; border: 1px solid black;\"><u>pid</u></td>\n",
    "                <td style=\"border-collapse: collapse; border: 1px solid black;\"><u>tid</u></td>\n",
    "                <td style=\"border-collapse: collapse; border: 1px solid black;\"><u>year</u></td>\n",
    "                <td style=\"border-collapse: collapse; border: 1px solid black;\">position</td>\n",
    "                <td style=\"border-collapse: collapse; border: 1px solid black;\">jersey</td>\n",
    "                <td style=\"border-collapse: collapse; border: 1px solid black;\">games</td>\n",
    "                <td style=\"border-collapse: collapse; border: 1px solid black;\">starts</td>\n",
    "            </tr>\n",
    "            </tbody></table>\n",
    "            </td>\n",
    "        </tr>\n",
    "        <tr>\n",
    "            <td colspan=\"3\">&nbsp;</td>\n",
    "        </tr>\n",
    "        <tr style=\"border:none;\">\n",
    "            <td style=\"padding:0px 20px;border:none;\">\n",
    "            <table style=\"border-collapse: collapse; border: 1px solid black;\"><tbody>\n",
    "            <tr style=\"border-collapse: collapse; border: 1px solid black;\">\n",
    "                <th colspan=\"4\" style=\"text-align:center;\">TeamLocation</th></tr>\n",
    "            <tr style=\"border-collapse: collapse; border: 1px solid black;\">\n",
    "                <td style=\"border-collapse: collapse; border: 1px solid black;\"><u>tid</u></td>\n",
    "                <td style=\"border-collapse: collapse; border: 1px solid black;\"><u>year</u></td>\n",
    "                <td style=\"border-collapse: collapse; border: 1px solid black;\">place</td>\n",
    "                <td style=\"border-collapse: collapse; border: 1px solid black;\">headcoach</td>\n",
    "            </tr>\n",
    "            </tbody></table>\n",
    "            </td>\n",
    "            <td style=\"padding:0px 20px;border:none;\">\n",
    "            <table style=\"border-collapse: collapse; border: 1px solid black;\"><tbody>\n",
    "            <tr style=\"border-collapse: collapse; border: 1px solid black;\">\n",
    "                <th colspan=\"5\" style=\"text-align:center;\">Draft</th></tr>\n",
    "            <tr style=\"border-collapse: collapse; border: 1px solid black;\">\n",
    "                <td style=\"border-collapse: collapse; border: 1px solid black;\"><u>pid</u></td>\n",
    "                <td style=\"border-collapse: collapse; border: 1px solid black;\">year</td>\n",
    "                <td style=\"border-collapse: collapse; border: 1px solid black;\">round</td>\n",
    "                <td style=\"border-collapse: collapse; border: 1px solid black;\">overall</td>\n",
    "                <td style=\"border-collapse: collapse; border: 1px solid black;\">tid</td>\n",
    "            </tr>\n",
    "            </tbody></table>\n",
    "            </td>\n",
    "            <td style=\"padding:0px 20px;border:none;\">\n",
    "            <table style=\"border-collapse: collapse; border: 1px solid black;\"><tbody>\n",
    "            <tr style=\"border-collapse: collapse; border: 1px solid black;\">\n",
    "                <th colspan=\"8\" style=\"text-align:center;\">Game</th></tr>\n",
    "            <tr style=\"border-collapse: collapse; border: 1px solid black;\">\n",
    "                <td style=\"border-collapse: collapse; border: 1px solid black;\"><u>season</u></td>\n",
    "                <td style=\"border-collapse: collapse; border: 1px solid black;\"><u>week</u></td>\n",
    "                <td style=\"border-collapse: collapse; border: 1px solid black;\">date</td>\n",
    "                <td style=\"border-collapse: collapse; border: 1px solid black;\">vtid</td>\n",
    "                <td style=\"border-collapse: collapse; border: 1px solid black;\">vscore</td>\n",
    "                <td style=\"border-collapse: collapse; border: 1px solid black;\"><u>htid</u></td>\n",
    "                <td style=\"border-collapse: collapse; border: 1px solid black;\">hscore</td>\n",
    "                <td style=\"border-collapse: collapse; border: 1px solid black;\">notes</td>\n",
    "            </tr>\n",
    "            </tbody></table>\n",
    "            </td>\n",
    "        </tr>\n",
    "        </tbody></table>\n",
    "\n",
    "An <a href=\"http://csbio.unc.edu/mcmillan/Media/NFL.db\" download>example database</a> and the interactive SQL parser (<a href=\"http://csbio.unc.edu/mcmillan/Media/iSQL.zip\" download>iSQL.zip</a>) are provided for experimentation. You will need to unzip and copy iSQL.py into the same directory as the notebook for this problem set and invoke it as follows:\n",
    "\n",
    "\n",
    "    import iSQL\n",
    "    \n",
    "    query = iSQL.parser(\"NFL.db\")\n",
    "    </code>\n",
    "    \n",
    "\n",
    "Make sure that you copy your SQL query into the cell provided for your answer. Only that cell will be graded.\n",
    "***Warning***, if your query appears to give the correct result for the given database, that does not mean that it is correct. A correct query must give the requested result for *any* and *all* valid instances of the given database schema."
   ]
  },
  {
   "cell_type": "markdown",
   "metadata": {
    "case": 3,
    "key": "Aikman",
    "number": 1,
    "section": "problem"
   },
   "source": [
    "---\n",
    "**Problem 1:** How many 1st round draft picks were represented on the roster of the 1995 Dallas Cowboys?"
   ]
  },
  {
   "cell_type": "raw",
   "metadata": {
    "case": 3,
    "key": "Aikman",
    "number": 1,
    "section": "answer"
   },
   "source": [
    "SELECT COUNT(DISTINCT P.name)\n",
    "FROM PLAYER P, Team T, TeamLocation L, Draft D, PlayedFor F\n",
    "WHERE P.pid=D.pid AND D.round=1 AND L.year=1995 AND T.mascot='cowboys'\n",
    "AND L.place='dallas' AND F.year=1995 AND F.pid=P.pid AND F.tid=T.tid "
   ]
  },
  {
   "cell_type": "markdown",
   "metadata": {
    "case": 4,
    "key": "Aikman",
    "number": 2,
    "section": "problem"
   },
   "source": [
    "---\n",
    "**Problem 2:** Give the dates, week, and scores of all Cowboy - Bronco games between 1990 and 2000."
   ]
  },
  {
   "cell_type": "raw",
   "metadata": {
    "case": 4,
    "key": "Aikman",
    "number": 2,
    "section": "answer"
   },
   "source": [
    "select G.date, G.week, G.hscore, G.vscore from Game G, Team TH, Team TV where (G.vtid = TV.tid and TV.mascot = \"broncos\") and (G.htid = TH.tid and TH.mascot = \"cowboys\") and G.season > 1989 and G.season < 2001 \n",
    "union\n",
    "select G.date, G.week, G.hscore, G.vscore from Game G, Team TH, Team TV where (G.vtid = TV.tid and TV.mascot = \"cowboys\") and (G.htid = TH.tid and TH.mascot = \"broncos\") and G.season > 1989 and G.season < 2001"
   ]
  },
  {
   "cell_type": "markdown",
   "metadata": {
    "case": 5,
    "key": "Aikman",
    "number": 3,
    "section": "problem"
   },
   "source": [
    "---\n",
    "**Problem 3:** List the names of all players who appear on the rosters of both the 1990 and 2000 Dallas Cowboys."
   ]
  },
  {
   "cell_type": "raw",
   "metadata": {
    "case": 5,
    "key": "Aikman",
    "number": 3,
    "section": "answer"
   },
   "source": [
    "SELECT DISTINCT P.name\n",
    "FROM Player P, Team T, TeamLocation L, PlayedFor F\n",
    "WHERE P.pid=F.pid AND F.tid=L.tid AND F.year =1990 AND L.place='dallas' AND T.mascot='cowboys'\n",
    "INTERSECT\n",
    "SELECT DISTINCT P.name\n",
    "FROM Player P, Team T, TeamLocation L, PlayedFor F\n",
    "WHERE P.pid=F.pid AND F.tid=L.tid AND F.year =2000 AND L.place='dallas' AND T.mascot='cowboys'"
   ]
  },
  {
   "cell_type": "markdown",
   "metadata": {
    "case": 6,
    "key": "Aikman",
    "number": 4,
    "section": "problem"
   },
   "source": [
    "---\n",
    "**Problem 4:** Find all players that have worn the jersey number 8 for the Dallas Cowboys."
   ]
  },
  {
   "cell_type": "raw",
   "metadata": {
    "case": 6,
    "key": "Aikman",
    "number": 4,
    "section": "answer"
   },
   "source": [
    "SELECT DISTINCT P.name\n",
    "FROM Player P, PlayedFor F, Team T, TeamLocation L\n",
    "WHERE L.place='dallas' AND T.mascot='cowboys' AND P.pid=F.pid AND F.jersey=8 AND T.tid=F.tid AND L.tid=F.tid"
   ]
  },
  {
   "cell_type": "markdown",
   "metadata": {
    "case": 7,
    "key": "Aikman",
    "number": 5,
    "section": "problem"
   },
   "source": [
    "---\n",
    "**Problem 5:** Find the dates and opponents of all games played by the Dallas Cowboys that ended in a tied score."
   ]
  },
  {
   "cell_type": "raw",
   "metadata": {
    "case": 7,
    "key": "Aikman",
    "number": 5,
    "section": "answer"
   },
   "source": [
    "SELECT G.date, T2.mascot\n",
    "FROM Game G, TeamLocation L, Team T1, Team T2\n",
    "WHERE G.hscore=G.vscore and L.place='dallas' AND L.tid=T1.tid AND T1.mascot='cowboys' AND G.htid=T1.tid AND T2.tid=G.vtid\n",
    "UNION\n",
    "SELECT G.date, T2.mascot\n",
    "FROM Game G, TeamLocation L, Team T1, Team T2\n",
    "WHERE G.hscore=G.vscore and L.place='dallas' AND L.tid=T1.tid AND T1.mascot='cowboys' AND G.vtid=T1.tid AND T2.tid=G.vtid"
   ]
  },
  {
   "cell_type": "markdown",
   "metadata": {
    "case": 8,
    "key": "Aikman",
    "number": 6,
    "section": "problem"
   },
   "source": [
    "---\n",
    "**Problem 6:** Find all players for the Dallas Cowboys between the years 1985 and 2005 that played under two or more jersey numbers."
   ]
  },
  {
   "cell_type": "raw",
   "metadata": {
    "case": 8,
    "key": "Aikman",
    "number": 6,
    "section": "answer"
   },
   "source": [
    "SELECT P.name\n",
    "From Player P, Team T, PlayedFor F, TeamLocation L\n",
    "WHERE L.place='dallas' AND F.tid=L.tid AND F.tid=T.tid AND P.pid=F.pid AND (F.year>1984 and F.year<2006) and T.mascot='cowboys' and F.jersey <> '--'\n",
    "Group BY P.pid\n",
    "HAVING COUNT(DISTINCT F.jersey)>1"
   ]
  },
  {
   "cell_type": "markdown",
   "metadata": {
    "case": 11,
    "key": "Aikman",
    "number": 7,
    "section": "problem"
   },
   "source": [
    "---\n",
    "**Problem 7:** List all players with the most starts who played for the 1995 Dallas Cowboys."
   ]
  },
  {
   "cell_type": "raw",
   "metadata": {
    "case": 11,
    "key": "Aikman",
    "number": 7,
    "section": "answer"
   },
   "source": [
    "SELECT DISTINCT P.name\n",
    "FROM Player P, PlayedFor F, Team T, TeamLocation L,\n",
    "(SELECT P.name, MAX(F.starts) as maxStarts\n",
    "FROM Player P, PlayedFor F, Team T, TeamLocation L\n",
    "WHERE L.place='dallas' AND T.mascot='cowboys' AND F.tid=T.tid AND F.year=1995 AND P.pid=F.pid)\n",
    "WHERE F.starts=maxStarts AND L.place='dallas' AND T.mascot='cowboys' AND F.tid=T.tid AND F.year=1995 AND P.pid=F.pid"
   ]
  },
  {
   "cell_type": "markdown",
   "metadata": {
    "case": 12,
    "key": "Aikman",
    "number": 8,
    "section": "problem"
   },
   "source": [
    "---\n",
    "**Problem 8:** List all games with date, scores, and opponents of the 1995 Dallas Cowboys."
   ]
  },
  {
   "cell_type": "raw",
   "metadata": {
    "case": 12,
    "key": "Aikman",
    "number": 8,
    "section": "answer"
   },
   "source": [
    "SELECT DISTINCT G.date, G.hscore, G.vscore, T2.mascot\n",
    "FROM Game G, Team T1, Team T2\n",
    "WHERE T1.mascot='cowboys' AND G.htid=T1.tid AND g.vtid=T2.tid and G.season=1995\n",
    "UNION\n",
    "SELECT DISTINCT G.date, G.hscore, G.vscore, T2.mascot\n",
    "FROM Game G, Team T1, Team T2\n",
    "WHERE T1.mascot='cowboys' AND G.vtid=T1.tid AND g.htid=T2.tid and G.season=1995"
   ]
  },
  {
   "cell_type": "markdown",
   "metadata": {
    "case": 13,
    "key": "Aikman",
    "number": 9,
    "section": "problem"
   },
   "source": [
    "---\n",
    "**Problem 9:** List all players, teams, and years where a player on the roster of the 1995 Cowboys played for a team other than the Cowboys in later seasons."
   ]
  },
  {
   "cell_type": "raw",
   "metadata": {
    "case": 13,
    "key": "Aikman",
    "number": 9,
    "section": "answer"
   },
   "source": [
    "SELECT P.name, F2.year, T1.mascot, T2.mascot\n",
    "FROM PLAYER P, Team T1, Team T2, TeamLocation L, PlayedFor F, PlayedFor F2\n",
    "WHERE L.year=1995 AND T1.mascot='cowboys' AND L.place='dallas' AND F.year=1995 AND F.pid=P.pid AND F.tid=T1.tid AND T2.mascot!='cowboys' and F2.year>1995 and F2.pid=P.pid and F2.tid=T2.tid"
   ]
  },
  {
   "cell_type": "markdown",
   "metadata": {
    "case": 14,
    "key": "Aikman",
    "number": 10,
    "section": "problem"
   },
   "source": [
    "---\n",
    "**Problem 10:** Find the Win-Loss-Tie record each year for the Dallas Cowboys in the interval between 1985 and 2005."
   ]
  },
  {
   "cell_type": "raw",
   "metadata": {
    "case": 14,
    "key": "Aikman",
    "number": 10,
    "section": "answer"
   },
   "source": [
    "Select G.season, count(case when((T.tid=G.htid AND hscore>vscore) OR (T.tid=G.vtid AND hscore<vscore)) then 1 else null end) as wins,count(case when((T.tid=G.htid AND hscore<vscore) OR (T.tid=G.vtid AND hscore>vscore)) then 1 else null end) as losses, count(case when(((T.tid=G.htid AND hscore=vscore) OR (T.tid=G.vtid AND hscore=vscore))) then 1 else null end) as Ties\n",
    "FROM Team T, Game G\n",
    "WHERE T.mascot LIKE 'cowboy%'\n",
    "AND G.season >= 1985\n",
    "AND G.season <= 2005\n",
    "GROUP BY G.season"
   ]
  },
  {
   "cell_type": "markdown",
   "metadata": {
    "case": 1,
    "key": "Aikman",
    "number": 11,
    "section": "problem"
   },
   "source": [
    "---\n",
    "**Problem 11:** What position has been played by the most players?"
   ]
  },
  {
   "cell_type": "raw",
   "metadata": {
    "case": 1,
    "key": "common",
    "number": 11,
    "section": "answer"
   },
   "source": [
    "SELECT P.position\n",
    "FROM PlayedFor P, \n",
    "    (SELECT MAX (COUNT) AS MaxCount FROM (SELECT COUNT(DISTINCT P.pid) AS Count\n",
    "    FROM PlayedFor P\n",
    "    GROUP BY P.position))\n",
    "GROUP BY P.position\n",
    "HAVING MaxCount = COUNT(DISTINCT P.pid)"
   ]
  },
  {
   "cell_type": "markdown",
   "metadata": {
    "case": 5,
    "key": "Aikman",
    "number": 12,
    "section": "problem"
   },
   "source": [
    "---\n",
    "**Problem 12:** List all players who played as an Charger in both San Diego and Los Angeles"
   ]
  },
  {
   "cell_type": "raw",
   "metadata": {
    "case": 5,
    "key": "common",
    "number": 12,
    "section": "answer"
   },
   "source": [
    "SELECT P.name\n",
    "From Player P, Team T, PlayedFor F, TeamLocation L\n",
    "Where T.mascot='chargers' and F.tid=T.tid and F.pid=P.pid and L.place='san diego' and L.tid=T.tid and  F.year == L.year\n",
    "INTERSECT\n",
    "SELECT P.name\n",
    "From Player P, Team T, PlayedFor F, TeamLocation L\n",
    "Where T.mascot='chargers' and F.tid=t.tid and F.pid=P.pid and L.place='los angeles' and L.tid=T.tid and  F.year == L.year"
   ]
  },
  {
   "cell_type": "markdown",
   "metadata": {
    "case": 10,
    "key": "Aikman",
    "number": 13,
    "section": "problem"
   },
   "source": [
    "---\n",
    "**Problem 13:** List the top 10 colleges in terms of their contribution to player who have appeared in NFL rosters."
   ]
  },
  {
   "cell_type": "raw",
   "metadata": {
    "case": 10,
    "key": "common",
    "number": 13,
    "section": "answer"
   },
   "source": [
    "SELECT college\n",
    "FROM Player P\n",
    "WHERE college like \"_%\"\n",
    "GROUP BY college\n",
    "ORDER BY COUNT(*) DESC\n",
    "LIMIT 10"
   ]
  },
  {
   "cell_type": "markdown",
   "metadata": {
    "case": 11,
    "key": "Aikman",
    "number": 14,
    "section": "problem"
   },
   "source": [
    "---\n",
    "**Problem 14:** What is the highest draft pick historically (lowest overall number) for every each position."
   ]
  },
  {
   "cell_type": "raw",
   "metadata": {
    "case": 11,
    "key": "common",
    "number": 14,
    "section": "answer"
   },
   "source": [
    "SELECT position, MIN(overall) as MinOverallPick\n",
    "FROM Draft D, PlayedFor R\n",
    "WHERE overall>0 AND R.pid=D.pid\n",
    "GROUP BY position"
   ]
  },
  {
   "cell_type": "markdown",
   "metadata": {
    "case": 13,
    "key": "Aikman",
    "number": 15,
    "section": "problem"
   },
   "source": [
    "---\n",
    "**Problem 15:** What team played in the fewest home games in the period between 2000 and 2019?"
   ]
  },
  {
   "cell_type": "raw",
   "metadata": {
    "case": 13,
    "key": "common",
    "number": 15,
    "section": "answer"
   },
   "source": [
    "SELECT T.mascot\n",
    "FROM Team T, Game G\n",
    "WHERE T.tid= G.htid\n",
    "AND (G.season >= 2000 AND G.season <=2019)\n",
    "GROUP BY T.mascot\n",
    "ORDER BY COUNT(*)\n",
    "LIMIT 1"
   ]
  },
  {
   "cell_type": "markdown",
   "metadata": {
    "case": 17,
    "key": "Aikman",
    "number": 16,
    "section": "problem"
   },
   "source": [
    "---\n",
    "**Problem 16:** Generate a list of the winningest quarterback considering all teams that they might have played for."
   ]
  },
  {
   "cell_type": "raw",
   "metadata": {
    "case": 17,
    "key": "common",
    "number": 16,
    "section": "answer"
   },
   "source": [
    "SELECT DISTINCT P.name, COUNT(DISTINCT G.date) as Wins\n",
    "FROM Player P, PlayedFor PF, Game G\n",
    "where P.pid=PF.pid and PF.position='QB' and PF.year=G.season \n",
    "and ((PF.tid=G.vtid and G.vscore> G.hscore) or (PF.tid=G.htid and G.vscore< G.hscore))\n",
    "GROUP BY P.name\n",
    "ORDER BY Wins DESC"
   ]
  },
  {
   "cell_type": "markdown",
   "metadata": {
    "case": 18,
    "key": "Aikman",
    "number": 17,
    "section": "problem"
   },
   "source": [
    "---\n",
    "**Problem 17:** Find the heaviest player in each 2019 roster."
   ]
  },
  {
   "cell_type": "raw",
   "metadata": {
    "case": 18,
    "key": "common",
    "number": 17,
    "section": "answer"
   },
   "source": [
    "SELECT P.name, T.mascot\n",
    "FROM Player P, PlayedFor R, Team T\n",
    "WHERE R.year=2019 AND R.pid=P.pid AND T.tid=R.tid AND P.weight<>'--'\n",
    "GROUP BY T.mascot\n",
    "HAVING MAX(P.weight)"
   ]
  },
  {
   "cell_type": "markdown",
   "metadata": {
    "case": 20,
    "key": "Aikman",
    "number": 18,
    "section": "problem"
   },
   "source": [
    "---\n",
    "**Problem 18:** Which team and year had the heaviest average player weight."
   ]
  },
  {
   "cell_type": "raw",
   "metadata": {
    "case": 20,
    "key": "common",
    "number": 18,
    "section": "answer"
   },
   "source": [
    "select T.mascot, R.year, MAX(avgWeight)\n",
    "from Player P, PlayedFor R, Team T,\n",
    "    (SELECT T.mascot, R.year, AVG(p.weight) as avgWeight\n",
    "    FROM Player P, PlayedFor R, Team T\n",
    "    WHERE T.tid=R.tid AND R.pid=P.pid AND P.weight<>'--'\n",
    "    GROUP BY T.mascot, R.year\n",
    "    HAVING AVG(P.weight))\n",
    "WHERE T.tid=R.tid AND R.pid=P.pid AND P.weight<>'--'"
   ]
  },
  {
   "cell_type": "markdown",
   "metadata": {
    "case": 23,
    "key": "Aikman",
    "number": 19,
    "section": "problem"
   },
   "source": [
    "---\n",
    "**Problem 19:** Generate a list of the top-ten pairs of teams that have played each other in the most games."
   ]
  },
  {
   "cell_type": "raw",
   "metadata": {
    "case": 23,
    "key": "common",
    "number": 19,
    "section": "answer"
   },
   "source": [
    "SELECT A.mascot,B.mascot, COUNT(A.tid) as Matchups\n",
    "From Game G, Team A, Team B\n",
    "WHERE (G.vtid=A.tid or G.htid=A.tid) AND (G.vtid =B.tid OR G.htid=B.tid) AND B.tid>A.tid\n",
    "GROUP BY B.tid, A.tid\n",
    "ORDER BY COUNT(A.tid) DESC \n",
    "LIMIT 10"
   ]
  },
  {
   "cell_type": "markdown",
   "metadata": {
    "case": 24,
    "key": "Aikman",
    "number": 20,
    "section": "problem"
   },
   "source": [
    "---\n",
    "**Problem 20:** How many times have two teams from the same location (i.e. New York Gaints and New York Jets, or Los Angeles Rams and Los Angeles Chargers) played each other?."
   ]
  },
  {
   "cell_type": "raw",
   "metadata": {
    "case": 24,
    "key": "common",
    "number": 20,
    "section": "answer"
   },
   "source": [
    "SELECT COUNT(*) \n",
    "FROM (Select distinct LH.place, TH.mascot, TH.tid, LV.place, TV.Mascot, TV.tid, G.htid, G.vtid\n",
    "    From TeamLocation LH, TeamLocation LV, Game G, Team TH, Team TV\n",
    "    Where LH.tid=TH.tid and TH.tid=G.htid and LH.place = LV.place and TV.tid = G.vtid and LV.tid = TV.tid) "
   ]
  },
  {
   "cell_type": "markdown",
   "metadata": {},
   "source": [
    "Click [here to submit](http://csbio.unc.edu/mcmillan/index.py?run=PS.upload) your completed problem set.\n",
    "\n",
    "You can submit it as many times as you would like, but only the last submitted version will be graded. If the last submission was after the due date the final score will be reduced accordingly. "
   ]
  }
 ],
 "metadata": {
  "kernelspec": {
   "display_name": "Python 2",
   "language": "python",
   "name": "python2"
  },
  "language_info": {
   "codemirror_mode": {
    "name": "ipython",
    "version": 2
   },
   "file_extension": ".py",
   "mimetype": "text/x-python",
   "name": "python",
   "nbconvert_exporter": "python",
   "pygments_lexer": "ipython2",
   "version": "2.7.16"
  }
 },
 "nbformat": 4,
 "nbformat_minor": 1
}
