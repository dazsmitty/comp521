{
 "cells": [
  {
   "cell_type": "markdown",
   "metadata": {
    "section": "header"
   },
   "source": [
    "<div style=\"text-align: center;\">\n",
    "<h1>The University of North Carolina at Chapel Hill</h1>\n",
    "<h1>Comp 521 Files and Databases - Fall 2019</h1>\n",
    "<h1 style=\"font-size: 250%;\">Midterm Exam</h1>\n",
    "<h1>Monday October 14, 2019</h1>\n",
    "</div>\n",
    "\n",
    "**Instructions:** Answer all questions using the cells provided. Feel free to add additional cells to your notebook, but there is no guarantee that they will be considered when grading. If any question seems unclear or appears to lack sufficient information, state a reasonable assumption in the cell provided for your answer and proceed.\n",
    "\n",
    "You can use any notes, books, or on-line materials to aid when answering your questions, so long as they do not involve communication with any other person."
   ]
  },
  {
   "cell_type": "code",
   "execution_count": 1,
   "metadata": {
    "section": "signature"
   },
   "outputs": [],
   "source": [
    "# Replace the following string values with the requested information\n",
    "class Student:\n",
    "    first = \"Your given name\"\n",
    "    last = \"Your family name\"\n",
    "    onyen = \"aalston9\"\n",
    "    pid = \"730015776\""
   ]
  },
  {
   "cell_type": "markdown",
   "metadata": {},
   "source": [
    "---\n",
    "The following questions refer to the NFL database used in Problem sets #1 and #2. The database has the following tables:\n",
    "<table style=\"border:none;\"><tbody>\n",
    "        <tr style=\"border:none; background:white;\">\n",
    "            <td style=\"padding:0px 20px;border:none;\">\n",
    "            <table style=\"border-collapse: collapse; border: 1px solid black;\"><tbody>\n",
    "            <tr style=\"border-collapse: collapse; border: 1px solid black; background: #c0efff;\">\n",
    "                <th colspan=\"6\" style=\"text-align:center;\">Player</th></tr>\n",
    "            <tr style=\"border-collapse: collapse; border: 1px solid black;\">\n",
    "                <td style=\"border-collapse: collapse; border: 1px solid black;\"><u>pid</u></td>\n",
    "                <td style=\"border-collapse: collapse; border: 1px solid black;\">name</td>\n",
    "                <td style=\"border-collapse: collapse; border: 1px solid black;\">height</td>\n",
    "                <td style=\"border-collapse: collapse; border: 1px solid black;\">weight</td>\n",
    "                <td style=\"border-collapse: collapse; border: 1px solid black;\">college</td>\n",
    "                <td style=\"border-collapse: collapse; border: 1px solid black;\">dob</td>\n",
    "            </tr>\n",
    "            </tbody></table>\n",
    "            </td>\n",
    "            <td style=\"padding:0px 20px;border:none;\">\n",
    "            <table style=\"border-collapse: collapse; border: 1px solid black;\"><tbody>\n",
    "            <tr style=\"border-collapse: collapse; border: 1px solid black; background: #c0efff;\">\n",
    "                <th colspan=\"2\" style=\"text-align:center;\">Team</th></tr>\n",
    "            <tr style=\"border-collapse: collapse; border: 1px solid black;\">\n",
    "                <td style=\"border-collapse: collapse; border: 1px solid black;\"><u>tid</u></td>\n",
    "                <td style=\"border-collapse: collapse; border: 1px solid black;\">mascot</td>\n",
    "            </tr>\n",
    "            </tbody></table>\n",
    "            </td>\n",
    "            <td style=\"padding:0px 20px;border:none;\">\n",
    "            <table style=\"border-collapse: collapse; border: 1px solid black;\"><tbody>\n",
    "            <tr style=\"border-collapse: collapse; border: 1px solid black; background: #c0efff;\">\n",
    "                <th colspan=\"7\" style=\"text-align:center;\">PlayedFor</th></tr>\n",
    "            <tr style=\"border-collapse: collapse; border: 1px solid black;\">\n",
    "                <td style=\"border-collapse: collapse; border: 1px solid black;\"><u>pid</u></td>\n",
    "                <td style=\"border-collapse: collapse; border: 1px solid black;\"><u>tid</u></td>\n",
    "                <td style=\"border-collapse: collapse; border: 1px solid black;\"><u>year</u></td>\n",
    "                <td style=\"border-collapse: collapse; border: 1px solid black;\">position</td>\n",
    "                <td style=\"border-collapse: collapse; border: 1px solid black;\">jersey</td>\n",
    "                <td style=\"border-collapse: collapse; border: 1px solid black;\">games</td>\n",
    "                <td style=\"border-collapse: collapse; border: 1px solid black;\">starts</td>\n",
    "            </tr>\n",
    "            </tbody></table>\n",
    "            </td>\n",
    "        </tr>\n",
    "        <tr>\n",
    "            <td colspan=\"3\" style=\"border:none; background:white;\">&nbsp;</td>\n",
    "        </tr>\n",
    "        <tr style=\"border:none; background:white;\">\n",
    "            <td style=\"padding:0px 20px;border:none;\">\n",
    "            <table style=\"border-collapse: collapse; border: 1px solid black;\"><tbody>\n",
    "            <tr style=\"border-collapse: collapse; border: 1px solid black; background: #c0efff;\">\n",
    "                <th colspan=\"4\" style=\"text-align:center;\">TeamLocation</th></tr>\n",
    "            <tr style=\"border-collapse: collapse; border: 1px solid black;\">\n",
    "                <td style=\"border-collapse: collapse; border: 1px solid black;\"><u>tid</u></td>\n",
    "                <td style=\"border-collapse: collapse; border: 1px solid black;\"><u>year</u></td>\n",
    "                <td style=\"border-collapse: collapse; border: 1px solid black;\">place</td>\n",
    "                <td style=\"border-collapse: collapse; border: 1px solid black;\">headcoach</td>\n",
    "            </tr>\n",
    "            </tbody></table>\n",
    "            </td>\n",
    "            <td style=\"padding:0px 20px;border:none;\">\n",
    "            <table style=\"border-collapse: collapse; border: 1px solid black;\"><tbody>\n",
    "            <tr style=\"border-collapse: collapse; border: 1px solid black; background: #c0efff;\">\n",
    "                <th colspan=\"5\" style=\"text-align:center;\">Draft</th></tr>\n",
    "            <tr style=\"border-collapse: collapse; border: 1px solid black;\">\n",
    "                <td style=\"border-collapse: collapse; border: 1px solid black;\"><u>pid</u></td>\n",
    "                <td style=\"border-collapse: collapse; border: 1px solid black;\">year</td>\n",
    "                <td style=\"border-collapse: collapse; border: 1px solid black;\">round</td>\n",
    "                <td style=\"border-collapse: collapse; border: 1px solid black;\">overall</td>\n",
    "                <td style=\"border-collapse: collapse; border: 1px solid black;\">tid</td>\n",
    "            </tr>\n",
    "            </tbody></table>\n",
    "            </td>\n",
    "            <td style=\"padding:0px 20px;border:none;\">\n",
    "            <table style=\"border-collapse: collapse; border: 1px solid black;\"><tbody>\n",
    "            <tr style=\"border-collapse: collapse; border: 1px solid black; background: #c0efff;\">\n",
    "                <th colspan=\"8\" style=\"text-align:center;\">Game</th></tr>\n",
    "            <tr style=\"border-collapse: collapse; border: 1px solid black;\">\n",
    "                <td style=\"border-collapse: collapse; border: 1px solid black;\"><u>season</u></td>\n",
    "                <td style=\"border-collapse: collapse; border: 1px solid black;\"><u>week</u></td>\n",
    "                <td style=\"border-collapse: collapse; border: 1px solid black;\">date</td>\n",
    "                <td style=\"border-collapse: collapse; border: 1px solid black;\">vtid</td>\n",
    "                <td style=\"border-collapse: collapse; border: 1px solid black;\">vscore</td>\n",
    "                <td style=\"border-collapse: collapse; border: 1px solid black;\"><u>htid</u></td>\n",
    "                <td style=\"border-collapse: collapse; border: 1px solid black;\">hscore</td>\n",
    "                <td style=\"border-collapse: collapse; border: 1px solid black;\">notes</td>\n",
    "            </tr>\n",
    "            </tbody></table>\n",
    "            </td>\n",
    "        </tr>\n",
    "        </tbody></table>\n",
    "\n",
    "This <a href=\"http://csbio.unc.edu/mcmillan/Media/NFL.db\" download>example database</a> is available for downloads."
   ]
  },
  {
   "cell_type": "markdown",
   "metadata": {
    "number": 1,
    "section": "problem"
   },
   "source": [
    "---\n",
    "**Problem #1:** Lee Hart, Comp 521 nerd and football fan, has added a new table to his NFL database called \"PassingStats\", that includes counts for *attempts*, *completes*, *interceptions*, *yards*, and *touchdowns* for a player who is specfied by *pid*, on a team specified by *tid*, for a specific game, specified by *season* and *week*.\n",
    "\n",
    "<table style=\"border-collapse: collapse; border: 1px solid black;\"><tbody>\n",
    "<tr style=\"border-collapse: collapse; border: 1px solid black; background: #c0efff;\">\n",
    "    <th colspan=\"9\" style=\"text-align:center;\">PassingStats</th></tr>\n",
    "<tr style=\"border-collapse: collapse; border: 1px solid black;\">\n",
    "    <td style=\"border-collapse: collapse; border: 1px solid black;\">pid</td>\n",
    "    <td style=\"border-collapse: collapse; border: 1px solid black;\">tid</td>\n",
    "    <td style=\"border-collapse: collapse; border: 1px solid black;\">season</td>\n",
    "    <td style=\"border-collapse: collapse; border: 1px solid black;\">week</td>\n",
    "    <td style=\"border-collapse: collapse; border: 1px solid black;\">attempts</td>\n",
    "    <td style=\"border-collapse: collapse; border: 1px solid black;\">completes</td>\n",
    "    <td style=\"border-collapse: collapse; border: 1px solid black;\">interceptions</td>\n",
    "    <td style=\"border-collapse: collapse; border: 1px solid black;\">yards</td>\n",
    "    <td style=\"border-collapse: collapse; border: 1px solid black;\">touchdowns</td>\n",
    "</tr>\n",
    "</tbody></table>\n",
    "   \n",
    "In the space provided below give a SQL statement to create such a table. Include types for all attributes, default values, and any necessary integrity constraints."
   ]
  },
  {
   "cell_type": "raw",
   "metadata": {
    "number": 1,
    "section": "answer"
   },
   "source": [
    "CREATE TABLE IF NOT EXISTS PassingStats ( \n",
    "    pid INTEGER, \n",
    "    tid INTEGER, \n",
    "    season INTEGER, \n",
    "    week TEXT, \n",
    "    attempts INTEGER, \n",
    "    completes INTEGER, \n",
    "    interceptions INTEGER DEFAULT 0, \n",
    "    yards INTEGER DEFAULT 0, \n",
    "    touchdowns INTEGER DEFAULT 0, \n",
    "    UNIQUE (pid,season,week), \n",
    "    FOREIGN KEY (pid) REFERENCES Player, \n",
    "    FOREIGN KEY (tid) REFERENCES Team, \n",
    "    CHECK(completes <= attempts), \n",
    "    CHECK(interceptions <= attempts), \n",
    "    CHECK(touchdowns <= attempts) \n",
    ");"
   ]
  },
  {
   "cell_type": "markdown",
   "metadata": {
    "number": 2,
    "section": "problem"
   },
   "source": [
    "---\n",
    "**Problem #2:** Using the table described in Problem #1 give a SQL statement that produces rows with a player's name, position, team mascot, game dates, and number of touchdowns for those players who have passed for 6 or more touchdowns in a single game. For inspiration consider this [website](https://www.pro-football-reference.com/leaders/pass_td_single_game.htm)."
   ]
  },
  {
   "cell_type": "raw",
   "metadata": {
    "number": 2,
    "section": "answer"
   },
   "source": [
    "SELECT P.name, R.position, T.mascot, G.date, S.touchdowns \n",
    "FROM PassingStats S, Game G, Player P, PlayedFor R, Team T \n",
    "WHERE G.season=S.season AND G.week=S.week AND (G.vtid=S.tid OR G.htid=S.tid) AND S.touchdowns >= 6 AND P.pid=S.pid AND P.pid=R.pid AND R.year=S.season AND T.tid=S.tid"
   ]
  },
  {
   "cell_type": "markdown",
   "metadata": {
    "number": 3,
    "section": "problem"
   },
   "source": [
    "---\n",
    "**Problem #3:** Suggest an index to accelerate the query given in Problem #2. In the space below give a SQL statement to create it."
   ]
  },
  {
   "cell_type": "raw",
   "metadata": {
    "number": 3,
    "section": "answer"
   },
   "source": [
    "CREATE INDEX IF NOT EXISTS SixOrMoreTouchdowns ON PassingStats(touchdowns, pid, season)"
   ]
  },
  {
   "cell_type": "markdown",
   "metadata": {
    "number": 4,
    "section": "problem"
   },
   "source": [
    "---\n",
    "**Problem #4:** Indicate the type of index would best suit your answer from Problem #3. "
   ]
  },
  {
   "cell_type": "raw",
   "metadata": {
    "number": 4,
    "section": "answer"
   },
   "source": [
    "B+ tree"
   ]
  },
  {
   "cell_type": "markdown",
   "metadata": {
    "number": 5,
    "section": "problem"
   },
   "source": [
    "---\n",
    "**Problem #5** Suppose that your client asked you to include the opponent's mascot to the rows from the query of Problem #2. In the space provided below decide whether you would rather add this row by modifying your SQL statment or using python statement with access to all of the attributes from the \"FROM\" of the query you gave in Problem #2 (i.e. replacing your SELECT fields with '*'). Given a brief explanation for your choice.   "
   ]
  },
  {
   "cell_type": "raw",
   "metadata": {
    "number": 5,
    "section": "answer"
   },
   "source": [
    "When decisions are made on a row basis concerning which columns appear in a result, it is often better to do this using the decision making capabilities of the embedding language. Python is better suited for the formatting. To do the same in SQL requires multiple passes through the same basic query selecting columns, and additional joins."
   ]
  },
  {
   "cell_type": "markdown",
   "metadata": {
    "number": 6,
    "section": "problem"
   },
   "source": [
    "---\n",
    "**Problem #6.** Using the table described in Problem #1 give a SQL statement that produces ***summary*** PasssingStatistic rows with player name, team mascot, attempts, completes, interceptions, yards and touchdowns for all players in the 2018 NFL season using the SUM() aggregate operator. For inspiration consider this [website](https://www.footballdb.com/stats/stats.html?lg=NFL&yr=2018&type=reg&mode=P&conf=&limit=25)"
   ]
  },
  {
   "cell_type": "raw",
   "metadata": {
    "number": 6,
    "section": "answer"
   },
   "source": [
    "SELECT P.name, T.mascot, SUM(S.attempts), SUM(S.completes), SUM(S.interceptions), SUM(S.yards), SUM(S.touchdowns) \n",
    "FROM PassingStats S, Team T, Player P \n",
    "WHERE S.tid = T.tid AND P.pid = S.pid AND S.season = 2018 \n",
    "GROUP BY S.pid, T.mascot \n",
    "\n",
    "SELECT P.name, T.mascot, SUM(S.attempts), SUM(S.completes), SUM(S.interceptions), SUM(S.yards), SUM(S.touchdowns)\n",
    "FROM Player P, Team T, PassingStats S, PlayedFor R\n",
    "WHERE P.pid=R.pid and R.tid=T.tid and S.pid=P.pid and S.tid=T.tid and R.year=2018 and S.season=2018\n",
    "GROUP BY P.pid and T.mascot"
   ]
  },
  {
   "cell_type": "code",
   "execution_count": 1,
   "metadata": {},
   "outputs": [
    {
     "data": {
      "application/vnd.jupyter.widget-view+json": {
       "model_id": "3cf92aa0004149b99695a51296901c6a",
       "version_major": 2,
       "version_minor": 0
      },
      "text/plain": [
       "VkJveChjaGlsZHJlbj0oVGV4dGFyZWEodmFsdWU9dScnLCBkZXNjcmlwdGlvbj11J1NRTDonLCBsYXlvdXQ9TGF5b3V0KGhlaWdodD11JzEwMHB4Jywgd2lkdGg9dSc2MDBweCcpKSwgSEJveCjigKY=\n"
      ]
     },
     "metadata": {},
     "output_type": "display_data"
    }
   ],
   "source": [
    "import iSQL\n",
    "\n",
    "query = iSQL.parser(\"NFL.db\")"
   ]
  },
  {
   "cell_type": "markdown",
   "metadata": {
    "number": 7,
    "section": "problem"
   },
   "source": [
    "---\n",
    "**Problem #7.** Suppose that a B<sup>+</sup>-Tree based unclustered index exists over the search key (year,tid,pid) of the 98452 records of the PlayedFor table, which stores 200 keys in each leaf and steering page. What is the smallest possible number of pages that might be used by this index? How deep is the tree in this case? How many keys are in the root node?"
   ]
  },
  {
   "cell_type": "raw",
   "metadata": {
    "number": 7,
    "section": "answer"
   },
   "source": [
    "In the smallest possible B+ tree all possible keys in a page, up to 200, are used. Therefore, the 983452 keys in the leafs require 493 pages (345 with 200 keys + 148 with 199 keys). Above the leafs are 3 pages with steering keys (1 with 201 leaf pointers and 2 with 146 leaf pointers). Above these steering pages is the root which has 3 pointers to the steering pages). This gives a total of 497 pages, the tree has a depth of 3, and there are 3 pointers, and 2 keys in the root node."
   ]
  },
  {
   "cell_type": "markdown",
   "metadata": {
    "number": 8,
    "section": "problem"
   },
   "source": [
    "---\n",
    "**Problem #8.** It is observed that when an extended-hash index is built for the 98452 records of the PlayedFor table using the search key *(year)* that the directory quickly expands to its maximum size of 4096 entries and many buckets still overflow. However, when an extended-hash index is built over the same table for the search key *(year,tid)*, the directory only grows to 2048 entries, and none of the pages overflow. Give a brief explanation of what you think is going on. Also, of the two indexes, which do you predict occupies the larger number of pages? For both indexes you can assume that a maximum of 200 key-pid pairs can be stored in an index page."
   ]
  },
  {
   "cell_type": "raw",
   "metadata": {
    "number": 8,
    "section": "answer"
   },
   "source": [
    "Key choice impacts the number of records in a bucket. The number of records in a single year is likely more than will fit in a hash bucket. Therefore, splitting and redistributing keys does not help, since the records sharing the same year will map to the same buckets once again. By adding tid to the key however, there is the potential to distribute records from the same year over multiple buckets. The pages of the first index are mostly full, leading to overflows, where as the year-tid index is more likely to have non-full index pages. Thus we would expect year-tid to use slightly more pages."
   ]
  },
  {
   "cell_type": "markdown",
   "metadata": {
    "number": 9,
    "section": "problem"
   },
   "source": [
    "---\n",
    "**Problem #9**. On 2019-10-06, Patrick Mahomes of the Kansas City Chiefs attempted 33 passes and completed 22 of them with no interceptions. His total offense for the game was 321 passing yards for 1 touchdown. Generate a short Python3 code snippet to INSERT this information into a table whose schema matches the one that you defined in Problem #1. You should query the \"NFL.db\" database to extract the necessary *pid* and *tid* attribute values for the INSERT. "
   ]
  },
  {
   "cell_type": "raw",
   "metadata": {
    "number": 9,
    "section": "answer"
   },
   "source": [
    "import sqlite3 \n",
    "db = sqlite3.connect(\"newNFL.db\") \n",
    "cursor = db.cursor()\n",
    "\n",
    "cursor.execute(\"\"\"SELECT P.pid,R.tid,G.season,G.week FROM Player P, PlayedFor R, Game G WHERE P.name like ? AND P.pid=R.pid AND year=? AND G.date=? AND (G.vtid=R.tid OR G.htid=R.tid)\"\"\", (\"%Mahomes\",2019,\"2019-10-06\")) \n",
    "\n",
    "row = [v for v in cursor.fetchone()] + [33,22,0,321,1] \n",
    "cursor.execute(\"INSERT INTO PassingStats VALUES(?,?,?,?,?,?,?,?,?)\", tuple(row)) \n",
    "db.commit()"
   ]
  },
  {
   "cell_type": "markdown",
   "metadata": {
    "number": 10,
    "section": "problem"
   },
   "source": [
    "** Problem 10**. The following table gives actual statistics for an instance of an NFL database with the given schema. For each table or index in the database it gives the total number of 4096 byte blocks, the total number of records in the table, and the average block utilization as a percent for the entire table.\n",
    "Which table or index requires the largest number of bytes per record and estimate the number of bytes used?\n",
    "\n",
    "| table / index\t| blocks\t| records\t| utilization |\n",
    "| ----- | --------- | --------- | ----------- |\n",
    "| Draft\t| 62\t| 13122\t| 92.90 |\n",
    "| Game\t| 86\t| 10185\t| 99.19 |\n",
    "| PlayedFor\t| 620\t| 98452\t| 99.56 |\n",
    "| Player\t| 297\t| 21862\t| 90.05 |\n",
    "| Team\t| 1\t| 35\t| 12.65 |\n",
    "| TeamLocation\t| 10\t| 1711\t| 94.90 |\n",
    "| sqlite_autoindex_Game_1\t| 46\t| 10140\t| 87.11 |\n",
    "| sqlite_autoindex_PlayedFor_1\t| 443\t| 98010\t| 90.21 |\n",
    "| sqlite_autoindex_TeamLocation_1\t| 6\t| 1706\t| 89.92 |\n",
    "| sqlite_master\t| 1\t| 9\t| 37.99 |"
   ]
  },
  {
   "cell_type": "raw",
   "metadata": {
    "number": 10,
    "section": "answer"
   },
   "source": [
    "Bytes/record = (blocks*4096*0.01*utilization)/records \n",
    "The sqlite_master requires the most bytes per record (around 173) since it is storing a string used to create each table. Of our tables, Player has the most at around 50 bytes, which again is not surprizing since it stores names and colleges which are variable in length and can be long."
   ]
  },
  {
   "cell_type": "markdown",
   "metadata": {
    "section": "submit"
   },
   "source": [
    "Save a copy of your Midterm notebook and then click [here to submit](http://csbio.unc.edu/mcmillan/index.py?run=Exam.upload) turn in your Examination"
   ]
  }
 ],
 "metadata": {
  "anaconda-cloud": {},
  "kernelspec": {
   "display_name": "Python 2",
   "language": "python",
   "name": "python2"
  },
  "language_info": {
   "codemirror_mode": {
    "name": "ipython",
    "version": 2
   },
   "file_extension": ".py",
   "mimetype": "text/x-python",
   "name": "python",
   "nbconvert_exporter": "python",
   "pygments_lexer": "ipython2",
   "version": "2.7.16"
  }
 },
 "nbformat": 4,
 "nbformat_minor": 1
}
