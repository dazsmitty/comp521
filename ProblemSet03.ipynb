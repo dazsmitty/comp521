{
 "cells": [
  {
   "cell_type": "markdown",
   "metadata": {
    "course": "Comp521F19",
    "problemset": 3,
    "section": "header"
   },
   "source": [
    "<div style=\"text-align: center;\">\n",
    "<h1>The University of North Carolina at Chapel Hill</h1>\n",
    "<h1>Comp 521 Files and Databases - Fall 2019</h1>\n",
    "<h1 style=\"font-size: 250%;\">Problem Set #3</h1>\n",
    "<h1 style=\"font-size: 200%;\">Version 1.1</h1>\n",
    "<h1>Issued Tuesday 10/01/2019; Due Thursday 10/10/2019</h1>\n",
    "</div>\n",
    "\n",
    "**Homework Information:** The answer cells in this notebook contain metadata that enable it to be automatically parsed. Thus, you must enter your answers *only* into the cells provided. Do not delete any answer cell and/or add a new one to replace it. If you do so by accident, download a new copy of the problem set's notebook and transfer your answers into it. You can introduce new 'coding' cells in an effort to test approaches to problems, however, these introduced cells will not be considered when grading.\n",
    "\n",
    "Finally, some of the problems are probably too long to be done the night before the due date, so plan accordingly. Late problem sets will be accepted, but your lowest problem-set grade will be dropped. Feel free to get help from others, but the work you submit in should be your own."
   ]
  },
  {
   "cell_type": "code",
   "execution_count": 1,
   "metadata": {
    "collapsed": true,
    "section": "signature"
   },
   "outputs": [],
   "source": [
    "# Do not make any edits in this cell!\n",
    "class Student:\n",
    "    first = \"Adam\"\n",
    "    last = \"Alston\"\n",
    "    onyen = \"aalston9\"\n",
    "    pid = \"730015776\""
   ]
  },
  {
   "cell_type": "markdown",
   "metadata": {
    "section": "setup"
   },
   "source": [
    "In the following questions you will need to write Python3 programs to perform queries\n",
    "    on and modify the <a href=\"http://csbio.unc.edu/mcmillan/Media/NFL.db\" download>NFL.db</a>\n",
    "    database used in Problem Set #2. You sholud only need to import the standard \"sqlite3\"\n",
    "    and the \"time\" Python packages."
   ]
  },
  {
   "cell_type": "markdown",
   "metadata": {
    "case": 0,
    "key": "season2019",
    "number": 1,
    "section": "problem"
   },
   "source": [
    "---\n",
    "**Problem 1:** The file <a href=\"http://csbio.unc.edu/mcmillan/Media/NFLgames2019.csv\" download>NFLgames2019.csv</a>\n",
    "        contains the schedule for the 2019 NFL season. It includes the scores of all games played\n",
    "        before October 1, and 0-0 for games yet to be played. Write a Python3 program that loads\n",
    "        these new records into the Game table, but places <i>nulls</i> for the scores of unplayed\n",
    "        games."
   ]
  },
  {
   "cell_type": "code",
   "execution_count": 1,
   "metadata": {
    "case": 0,
    "key": "season2019",
    "number": 1,
    "section": "answer"
   },
   "outputs": [],
   "source": [
    "# Enter your Python3 code here"
   ]
  },
  {
   "cell_type": "code",
   "execution_count": 21,
   "metadata": {
    "scrolled": true
   },
   "outputs": [
    {
     "data": {
      "application/vnd.jupyter.widget-view+json": {
       "model_id": "1a945ede589a4c4c95ad37f181d8744c",
       "version_major": 2,
       "version_minor": 0
      },
      "text/plain": [
       "VkJveChjaGlsZHJlbj0oVGV4dGFyZWEodmFsdWU9dScnLCBkZXNjcmlwdGlvbj11J1NRTDonLCBsYXlvdXQ9TGF5b3V0KGhlaWdodD11JzEwMHB4Jywgd2lkdGg9dSc2MDBweCcpKSwgSEJveCjigKY=\n"
      ]
     },
     "metadata": {},
     "output_type": "display_data"
    }
   ],
   "source": [
    "import iSQL\n",
    "\n",
    "query = iSQL.parser(\"NFL.db\")"
   ]
  },
  {
   "cell_type": "code",
   "execution_count": 20,
   "metadata": {
    "scrolled": true
   },
   "outputs": [
    {
     "name": "stdout",
     "output_type": "stream",
     "text": [
      "     season  week      date               visitor  vScore  \\\n",
      "0      2019     1   9052019     Green Bay Packers      10   \n",
      "1      2019     1   9082019      Los Angeles Rams      30   \n",
      "2      2019     1   9082019      Tennessee Titans      43   \n",
      "3      2019     1   9082019    Kansas City Chiefs      40   \n",
      "4      2019     1   9082019      Baltimore Ravens      59   \n",
      "5      2019     1   9082019       Atlanta Falcons      12   \n",
      "6      2019     1   9082019         Buffalo Bills      17   \n",
      "7      2019     1   9082019   Washington Redskins      27   \n",
      "8      2019     1   9082019    Indianapolis Colts      24   \n",
      "9      2019     1   9082019    Cincinnati Bengals      20   \n",
      "10     2019     1   9082019         Detroit Lions      27   \n",
      "11     2019     1   9082019       New York Giants      17   \n",
      "12     2019     1   9082019   San Francisco 49ers      31   \n",
      "13     2019     1   9082019   Pittsburgh Steelers       3   \n",
      "14     2019     1   9092019        Houston Texans      28   \n",
      "15     2019     1   9092019        Denver Broncos      16   \n",
      "16     2019     2   9122019  Tampa Bay Buccaneers      20   \n",
      "17     2019     2   9152019     Arizona Cardinals      17   \n",
      "18     2019     2   9152019   San Francisco 49ers      41   \n",
      "19     2019     2   9152019  Los Angeles Chargers      10   \n",
      "20     2019     2   9152019     Minnesota Vikings      16   \n",
      "21     2019     2   9152019  Jacksonville Jaguars      12   \n",
      "22     2019     2   9152019  New England Patriots      43   \n",
      "23     2019     2   9152019         Buffalo Bills      28   \n",
      "24     2019     2   9152019      Seattle Seahawks      28   \n",
      "25     2019     2   9152019    Indianapolis Colts      19   \n",
      "26     2019     2   9152019        Dallas Cowboys      31   \n",
      "27     2019     2   9152019    Kansas City Chiefs      28   \n",
      "28     2019     2   9152019         Chicago Bears      16   \n",
      "29     2019     2   9152019    New Orleans Saints       9   \n",
      "..      ...   ...       ...                   ...     ...   \n",
      "226    2019    16  12212019         Detroit Lions       0   \n",
      "227    2019    16  12212019       Oakland Raiders       0   \n",
      "228    2019    16  12212019      Los Angeles Rams       0   \n",
      "229    2019    16  12222019  Jacksonville Jaguars       0   \n",
      "230    2019    16  12222019      Baltimore Ravens       0   \n",
      "231    2019    16  12222019     Carolina Panthers       0   \n",
      "232    2019    16  12222019    Cincinnati Bengals       0   \n",
      "233    2019    16  12222019   Pittsburgh Steelers       0   \n",
      "234    2019    16  12222019    New Orleans Saints       0   \n",
      "235    2019    16  12222019       New York Giants       0   \n",
      "236    2019    16  12222019        Dallas Cowboys       0   \n",
      "237    2019    16  12222019     Arizona Cardinals       0   \n",
      "238    2019    16  12222019    Kansas City Chiefs       0   \n",
      "239    2019    16  12232019     Green Bay Packers       0   \n",
      "240    2019    17  12292019   Pittsburgh Steelers       0   \n",
      "241    2019    17  12292019         New York Jets       0   \n",
      "242    2019    17  12292019    New Orleans Saints       0   \n",
      "243    2019    17  12292019      Cleveland Browns       0   \n",
      "244    2019    17  12292019   Washington Redskins       0   \n",
      "245    2019    17  12292019     Green Bay Packers       0   \n",
      "246    2019    17  12292019      Tennessee Titans       0   \n",
      "247    2019    17  12292019    Indianapolis Colts       0   \n",
      "248    2019    17  12292019  Los Angeles Chargers       0   \n",
      "249    2019    17  12292019         Chicago Bears       0   \n",
      "250    2019    17  12292019        Miami Dolphins       0   \n",
      "251    2019    17  12292019   Philadelphia Eagles       0   \n",
      "252    2019    17  12292019       Atlanta Falcons       0   \n",
      "253    2019    17  12292019       Oakland Raiders       0   \n",
      "254    2019    17  12292019     Arizona Cardinals       0   \n",
      "255    2019    17  12292019   San Francisco 49ers       0   \n",
      "\n",
      "                     home  hScore notes  \n",
      "0           Chicago Bears       3   NaN  \n",
      "1       Carolina Panthers      27   NaN  \n",
      "2        Cleveland Browns      13   NaN  \n",
      "3    Jacksonville Jaguars      26   NaN  \n",
      "4          Miami Dolphins      10   NaN  \n",
      "5       Minnesota Vikings      28   NaN  \n",
      "6           New York Jets      16   NaN  \n",
      "7     Philadelphia Eagles      32   NaN  \n",
      "8    Los Angeles Chargers      30    OT  \n",
      "9        Seattle Seahawks      21   NaN  \n",
      "10      Arizona Cardinals      27    OT  \n",
      "11         Dallas Cowboys      35   NaN  \n",
      "12   Tampa Bay Buccaneers      17   NaN  \n",
      "13   New England Patriots      33   NaN  \n",
      "14     New Orleans Saints      30   NaN  \n",
      "15        Oakland Raiders      24   NaN  \n",
      "16      Carolina Panthers      14   NaN  \n",
      "17       Baltimore Ravens      23   NaN  \n",
      "18     Cincinnati Bengals      17   NaN  \n",
      "19          Detroit Lions      13   NaN  \n",
      "20      Green Bay Packers      21   NaN  \n",
      "21         Houston Texans      13   NaN  \n",
      "22         Miami Dolphins       0   NaN  \n",
      "23        New York Giants      14   NaN  \n",
      "24    Pittsburgh Steelers      26   NaN  \n",
      "25       Tennessee Titans      17   NaN  \n",
      "26    Washington Redskins      21   NaN  \n",
      "27        Oakland Raiders      10   NaN  \n",
      "28         Denver Broncos      14   NaN  \n",
      "29       Los Angeles Rams      27   NaN  \n",
      "..                    ...     ...   ...  \n",
      "226        Denver Broncos       0   NaN  \n",
      "227  Los Angeles Chargers       0   NaN  \n",
      "228   San Francisco 49ers       0   NaN  \n",
      "229       Atlanta Falcons       0   NaN  \n",
      "230      Cleveland Browns       0   NaN  \n",
      "231    Indianapolis Colts       0   NaN  \n",
      "232        Miami Dolphins       0   NaN  \n",
      "233         New York Jets       0   NaN  \n",
      "234      Tennessee Titans       0   NaN  \n",
      "235   Washington Redskins       0   NaN  \n",
      "236   Philadelphia Eagles       0   NaN  \n",
      "237      Seattle Seahawks       0   NaN  \n",
      "238         Chicago Bears       0   NaN  \n",
      "239     Minnesota Vikings       0   NaN  \n",
      "240      Baltimore Ravens       0   NaN  \n",
      "241         Buffalo Bills       0   NaN  \n",
      "242     Carolina Panthers       0   NaN  \n",
      "243    Cincinnati Bengals       0   NaN  \n",
      "244        Dallas Cowboys       0   NaN  \n",
      "245         Detroit Lions       0   NaN  \n",
      "246        Houston Texans       0   NaN  \n",
      "247  Jacksonville Jaguars       0   NaN  \n",
      "248    Kansas City Chiefs       0   NaN  \n",
      "249     Minnesota Vikings       0   NaN  \n",
      "250  New England Patriots       0   NaN  \n",
      "251       New York Giants       0   NaN  \n",
      "252  Tampa Bay Buccaneers       0   NaN  \n",
      "253        Denver Broncos       0   NaN  \n",
      "254      Los Angeles Rams       0   NaN  \n",
      "255      Seattle Seahawks       0   NaN  \n",
      "\n",
      "[256 rows x 8 columns]\n"
     ]
    }
   ],
   "source": [
    "import pandas as pd\n",
    "\n",
    "dataframe = pd.read_csv(\"NFLgames2019.csv\")\n",
    "dataframe"
   ]
  },
  {
   "cell_type": "code",
   "execution_count": 22,
   "metadata": {},
   "outputs": [
    {
     "ename": "SyntaxError",
     "evalue": "invalid syntax (<ipython-input-22-0608758d8ca0>, line 4)",
     "output_type": "error",
     "traceback": [
      "\u001b[0;36m  File \u001b[0;32m\"<ipython-input-22-0608758d8ca0>\"\u001b[0;36m, line \u001b[0;32m4\u001b[0m\n\u001b[0;31m    insertINTO Game\u001b[0m\n\u001b[0m                  ^\u001b[0m\n\u001b[0;31mSyntaxError\u001b[0m\u001b[0;31m:\u001b[0m invalid syntax\n"
     ]
    }
   ],
   "source": [
    "dataframe['date'] = dataframe['date'].str.replace('\\D','').astype(int)\n",
    "print(dataframe)\n",
    "if (dataframe['date'] < 10012019):\n",
    "    insertINTO Game\n",
    "\n"
   ]
  },
  {
   "cell_type": "markdown",
   "metadata": {
    "case": 1,
    "key": "season2019",
    "number": 2,
    "section": "problem"
   },
   "source": [
    "---\n",
    "**Problem 2:** Using the results from Problem #1, write a Python3 program to compute the 2019\n",
    "        strength-of-schedule for each team as follows. First, find the number of wins of each team\n",
    "        in 2018. Then accumulate the number of the 2018 wins of every team's opponent in the 2019\n",
    "        season. Produce a sorted strength-of-schedule list with a row for each team and their number\n",
    "        of wins in decreasing order. If a team is played more than once it's win-count should be\n",
    "        added however many times it is played."
   ]
  },
  {
   "cell_type": "code",
   "execution_count": 1,
   "metadata": {
    "case": 1,
    "key": "season2019",
    "number": 2,
    "section": "answer"
   },
   "outputs": [],
   "source": [
    "# Enter your Python3 code here"
   ]
  },
  {
   "cell_type": "markdown",
   "metadata": {
    "case": 0,
    "key": "ClayMatthews",
    "number": 3,
    "section": "problem"
   },
   "source": [
    "---\n",
    "**Problem 3:** Clay Matthews and Mel Farr are examples of father-son combinations who have both\n",
    "        played in the NFL, and who attended the same college. In the space below write a SQL\n",
    "        query that lists these players and any others that *might* have this or a similar\n",
    "        relationship."
   ]
  },
  {
   "cell_type": "raw",
   "metadata": {
    "case": 0,
    "key": "ClayMatthews",
    "number": 3,
    "section": "answer"
   },
   "source": [
    "Select DISTINCT P1.name, P2.name, P1.college, P2.college\n",
    "from Player P1, Player P2\n",
    "where P1.college=P2.college"
   ]
  },
  {
   "cell_type": "code",
   "execution_count": 1,
   "metadata": {},
   "outputs": [
    {
     "data": {
      "application/vnd.jupyter.widget-view+json": {
       "model_id": "e68aabda521d4d6c87094097d60fd6f9",
       "version_major": 2,
       "version_minor": 0
      },
      "text/plain": [
       "VkJveChjaGlsZHJlbj0oVGV4dGFyZWEodmFsdWU9dScnLCBkZXNjcmlwdGlvbj11J1NRTDonLCBsYXlvdXQ9TGF5b3V0KGhlaWdodD11JzEwMHB4Jywgd2lkdGg9dSc2MDBweCcpKSwgSEJveCjigKY=\n"
      ]
     },
     "metadata": {},
     "output_type": "display_data"
    }
   ],
   "source": [
    "import iSQL\n",
    "\n",
    "query = iSQL.parser(\"NFL.db\")"
   ]
  },
  {
   "cell_type": "markdown",
   "metadata": {
    "case": 1,
    "key": "ClayMatthews",
    "number": 4,
    "section": "problem"
   },
   "source": [
    "---\n",
    "**Problem 4:** If you examine the rosters that players named \"Clay Matthews\" and \"Mel Farr\" appeared\n",
    "        in you will find that the database has obvious errors due to this father-son confusion.\n",
    "        Write a Python3 program to repair the errant Player and PlayedFor table entries (Hint:\n",
    "        you might find it useful to consult Wikipedia)."
   ]
  },
  {
   "cell_type": "code",
   "execution_count": 1,
   "metadata": {
    "case": 1,
    "key": "ClayMatthews",
    "number": 4,
    "section": "answer"
   },
   "outputs": [],
   "source": [
    "# Enter your Python3 code here"
   ]
  },
  {
   "cell_type": "markdown",
   "metadata": {
    "case": 0,
    "key": "repeatPlayers",
    "number": 5,
    "section": "problem"
   },
   "source": [
    "---\n",
    "**Problem 5:** The folowing query was designed to identify players with the same name who have played for\n",
    "        the same team:<br>\n",
    "        <pre>\n",
    "        SELECT *\n",
    "        FROM Player P1, PlayedFor R1, Player P2, PlayedFor R2\n",
    "        WHERE R1.pid=P1.pid AND R2.pid=P2.pid\n",
    "        AND R1.tid=R2.tid AND R1.pid<R2.pid AND P1.name=P2.name\n",
    "        GROUP BY P1.pid, P2.pid\n",
    "        </pre>\n",
    "        This query is slow using the default NFL.db. Write a Python3 program to execute and time\n",
    "        this query and the time to save all rows that it returns into list for subsequent processing.\n",
    "        You should verify that your list actually extracts data from the rows. In the cell provided\n",
    "        below give the number of rows returned and the time required (no code please)."
   ]
  },
  {
   "cell_type": "raw",
   "metadata": {
    "case": 0,
    "key": "repeatPlayers",
    "number": 5,
    "section": "answer"
   },
   "source": [
    "Enter all parts of your answer here."
   ]
  },
  {
   "cell_type": "markdown",
   "metadata": {
    "case": 1,
    "key": "repeatPlayers",
    "number": 6,
    "section": "problem"
   },
   "source": [
    "---\n",
    "**Problem 6:** Next try to create and index to improve this query. In the cell provided below give\n",
    "        the \"CREATE INDEX\" statement that you found that provides the best performance. Also include\n",
    "        the number of rows returned and the time required for the query after creating the index\n",
    "        you chose."
   ]
  },
  {
   "cell_type": "raw",
   "metadata": {
    "case": 1,
    "key": "repeatPlayers",
    "number": 6,
    "section": "answer"
   },
   "source": [
    "Enter all parts of your answer here."
   ]
  },
  {
   "cell_type": "markdown",
   "metadata": {},
   "source": [
    "Click [here to submit](http://csbio.unc.edu/mcmillan/index.py?run=PS.upload) your completed problem set.\n",
    "\n",
    "You can submit it as many times as you would like, but only the last submitted version will be graded. If the last submission was after the due date the final score will be reduced accordingly. "
   ]
  }
 ],
 "metadata": {
  "kernelspec": {
   "display_name": "Python 2",
   "language": "python",
   "name": "python2"
  },
  "language_info": {
   "codemirror_mode": {
    "name": "ipython",
    "version": 2
   },
   "file_extension": ".py",
   "mimetype": "text/x-python",
   "name": "python",
   "nbconvert_exporter": "python",
   "pygments_lexer": "ipython2",
   "version": "2.7.16"
  }
 },
 "nbformat": 4,
 "nbformat_minor": 1
}
