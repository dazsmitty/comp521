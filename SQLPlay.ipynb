{
 "cells": [
  {
   "cell_type": "code",
   "execution_count": 17,
   "metadata": {},
   "outputs": [],
   "source": [
    "import iSQL"
   ]
  },
  {
   "cell_type": "code",
   "execution_count": 18,
   "metadata": {},
   "outputs": [
    {
     "data": {
      "application/vnd.jupyter.widget-view+json": {
       "model_id": "f8a351fa05a343dcb33a99120af98f34",
       "version_major": 2,
       "version_minor": 0
      },
      "text/plain": [
       "VBox(children=(Textarea(value='', description='SQL:', layout=Layout(height='100px', width='600px')), HBox(chil…"
      ]
     },
     "metadata": {},
     "output_type": "display_data"
    }
   ],
   "source": [
    "R = iSQL.parser(\"NFL.db\")"
   ]
  },
  {
   "cell_type": "code",
   "execution_count": 19,
   "metadata": {},
   "outputs": [
    {
     "name": "stdout",
     "output_type": "stream",
     "text": [
      " Name Jersey Position\n",
      "         Joe Fortson     1     WR\n",
      "     Dustin Colquitt     2      P\n",
      "          Chad Henne     4     QB\n",
      "   De'Anthony Thomas     5     WR\n",
      "            Jack Fox     6      P\n",
      "     Harrison Butker     7      K\n",
      "        Chase Litton     8     QB\n",
      "        Kyle Shurmur     9     QB\n",
      "         Tyreek Hill    10     WR\n",
      "   Demarcus Robinson    11     WR\n",
      "       Gehrig Dieter    12     WR\n",
      "       Byron Pringle    13     WR\n",
      "       Sammy Watkins    14     WR\n",
      "     Patrick Mahomes    15     QB\n",
      "      Mecole Hardman    17     WR\n"
     ]
    }
   ],
   "source": [
    "import sqlite3\n",
    "\n",
    "db = sqlite3.connect(\"NFL.db\")\n",
    "cursor = db.cursor()\n",
    "\n",
    "cursor.execute(\"\"\"SELECT P.name, R.jersey, R.position\n",
    "                    FROM Player P, PlayedFor R, Team T\n",
    "                    WHERE P.pid=R.pid AND R.tid=T.tid\n",
    "                        AND T.mascot='chiefs' AND R.year=2019 AND R.jersey<>'--'\n",
    "                    ORDER BY R.jersey\"\"\")\n",
    "print(\" Name Jersey Position\")\n",
    "for row in sorted(cursor, key=lambda tup: int(tup[1])):\n",
    "    if (int(row[1]) < 20):\n",
    "        print(\"%20s %5s %6s\" % row)\n",
    "        \n",
    "db.close()"
   ]
  },
  {
   "cell_type": "code",
   "execution_count": 20,
   "metadata": {},
   "outputs": [
    {
     "name": "stdout",
     "output_type": "stream",
     "text": [
      " Name Jersey Age Seasons Team\n",
      "          Mike White     3     62      1            cowboys\n",
      "           Tom Brady    12     42     19           patriots\n",
      "          Drew Brees     9     40     18           chargers\n",
      "         Josh McCown    12     40     17          cardinals\n",
      "         Eli Manning    10     38     15             giants\n",
      "         Matt Schaub     8     38     15            falcons\n",
      "       Philip Rivers    17     37     15           chargers\n",
      "  Ben Roethlisberger     7     37     15           steelers\n",
      "    Ryan Fitzpatrick    12     36     14               rams\n",
      "       Aaron Rodgers    12     35     14            packers\n",
      "          Alex Smith    11     35     14              49ers\n",
      "        Drew Stanton     5     35     11              lions\n",
      "          Matt Moore     3     35     12           panthers\n",
      "          Joe Flacco     5     34     11             ravens\n",
      "           Matt Ryan     2     34     11            falcons\n",
      "          Chad Henne     7     34     11           dolphins\n",
      "         Brian Hoyer     8     33     10           patriots\n",
      "        Josh Johnson    11     33     11         buccaneers\n",
      "        Chase Daniel    10     32     10             saints\n",
      "            Joe Webb    14     32      9            vikings\n",
      "          Colt McCoy    12     32      9             browns\n",
      "         Andy Dalton    14     31      8            bengals\n",
      "         Alex Tanney     4     31      7             chiefs\n",
      "    Matthew Stafford     9     31     10              lions\n",
      "         Case Keenum     7     31      6             texans\n",
      "      Ryan Tannehill    17     31      7           dolphins\n",
      "        Kirk Cousins    12     31      7           redskins\n",
      "          Matt Simms     5     30      6               jets\n",
      "      Russell Wilson     3     30      7           seahawks\n",
      "          Nick Foles     9     30      7             eagles\n",
      "          Cam Newton     1     30      8           panthers\n",
      "        Tyrod Taylor     2     30      8             ravens\n",
      "      Blaine Gabbert    11     29      8            jaguars\n",
      "        Mike Glennon     8     29      6         buccaneers\n",
      "        Nate Sudfeld     2     30      3           redskins\n",
      "        Ryan Griffin     4     29      6             saints\n",
      "  Robert Griffin III    10     29      7           redskins\n",
      "          Tom Savage     3     29      5             texans\n",
      "         Taysom Hill     7     29      0             saints\n",
      "        Matt Barkley     2     29      6             eagles\n",
      "       A.J. McCarron     5     29      5            bengals\n",
      "          Geno Smith     7     28      6               jets\n",
      "          Derek Carr     4     28      5            raiders\n",
      "     Garrett Gilbert     3     28      0             browns\n",
      "     Jameill Showers    28     28      0            cowboys\n",
      "     Jimmy Garoppolo    10     27      5           patriots\n",
      "      Trevor Siemian    13     27      4            broncos\n",
      "          Tyler Bray     9     27      6             chiefs\n",
      "          Josh Allen    17     27      1              bills\n",
      "        Sean Mannion    14     27      4               rams\n",
      "       Blake Bortles     5     27      5            jaguars\n",
      "       Brandon Allen     8     27      0               rams\n",
      "       Cardale Jones     7     26      3              bills\n",
      "         Kevin Hogan     8     26      3             browns\n",
      "   Teddy Bridgewater     5     26      5            vikings\n",
      "        Carson Wentz    11     26      3             eagles\n",
      "         Jake Rudock    14     26      3              lions\n",
      "        Jeff Driskel     6     26      0            bengals\n",
      "        Cody Kessler     6     26      3             browns\n",
      "       Brett Hundley     7     26      4            packers\n",
      "        Dak Prescott     4     26      3            cowboys\n",
      "      Marcus Mariota     8     25      4             titans\n",
      "       C.J. Beathard     3     25      2              49ers\n",
      "         Cooper Rush     7     25      2            cowboys\n",
      "     Jacoby Brissett     7     25      3           patriots\n",
      "     Taylor Heinicke     6     26      4            vikings\n",
      "        Joe Callahan     6     26      3            packers\n",
      "      Jameis Winston     3     25      4         buccaneers\n",
      "         Kyle Sloter     1     25      0            vikings\n",
      "        Paxton Lynch    12     25      3            broncos\n",
      "          Chad Kelly     6     25      0              colts\n",
      "     Nathan Peterman     2     25      2              bills\n",
      "        Danny Etling     1     25      0            falcons\n",
      "   Mitchell Trubisky    10     25      0              bears\n",
      "          Luis Perez     8     25      0              lions\n",
      "           Tim Boyle     8     24      0            packers\n",
      "          Jared Goff    16     24      3               rams\n",
      "           Luke Falk     8     24      0               jets\n",
      "          Davis Webb     5     24      0               jets\n",
      "        J.T. Barrett     6     24      0           seahawks\n",
      "        Joshua Dobbs     5     24      0           steelers\n",
      "      Logan Woodside     5     24      0             titans\n",
      "      Phillip Walker     5     24      0              colts\n",
      "       Kyle Lauletta    17     24      0             giants\n",
      "        Nick Mullens     4     24      0              49ers\n",
      "      Baker Mayfield     6     24      0             browns\n",
      "       Mason Rudolph     2     24      0           steelers\n",
      "      Deshaun Watson     4     24      2             texans\n",
      "        Chase Litton     8     23      0             chiefs\n",
      "        John Wolford     9     23      0               rams\n",
      "        Alex McGough     2     23      0            jaguars\n",
      "     Patrick Mahomes    15     24      2             chiefs\n",
      "       DeShone Kizer     7     23      2             browns\n",
      "          Kyle Allen     7     23      0           panthers\n",
      "       Lamar Jackson     8     22      0             ravens\n",
      "          Josh Rosen     3     22      0           dolphins\n",
      "         Sam Darnold    14     22      0               jets\n"
     ]
    }
   ],
   "source": [
    "import sqlite3\n",
    "import datetime\n",
    "\n",
    "db = sqlite3.connect(\"NFL.db\")\n",
    "cursor = db.cursor()\n",
    "\n",
    "cursor.execute(\"\"\"SELECT P.name, R.jersey, P.dob, MIN(R.year), T.mascot\n",
    "                    FROM Player P, PlayedFor R, Team T\n",
    "                    WHERE P.pid=R.pid AND R.tid=T.tid AND dob<>'--'\n",
    "                        AND P.pid in (SELECT pid FROM PlayedFor\n",
    "                    WHERE year=2019 AND position='QB')\n",
    "                    GROUP BY P.pid\n",
    "                    ORDER BY P.dob\"\"\")\n",
    "print(\" Name Jersey Age Seasons Team\")\n",
    "\n",
    "for row in cursor:\n",
    "    ymd = [int(v) for v in row[2].split('-')]\n",
    "    age = int((datetime.date.today() - datetime.date(ymd[0],ymd[1],ymd[2])).days/365.25)\n",
    "    seasons = datetime.date.today().year - int(row[3])\n",
    "    print(\"%20s %5s %6d %6d %18s\" % (row[0],row[1],age,seasons,row[4]))\n",
    "\n",
    "db.close()"
   ]
  },
  {
   "cell_type": "code",
   "execution_count": 32,
   "metadata": {},
   "outputs": [
    {
     "ename": "IndexError",
     "evalue": "No item with that key",
     "output_type": "error",
     "traceback": [
      "\u001b[0;31m---------------------------------------------------------------------------\u001b[0m",
      "\u001b[0;31mIndexError\u001b[0m                                Traceback (most recent call last)",
      "\u001b[0;32m<ipython-input-32-f8a9b9d1cbf7>\u001b[0m in \u001b[0;36m<module>\u001b[0;34m\u001b[0m\n\u001b[1;32m     18\u001b[0m \u001b[0mplayerGames\u001b[0m \u001b[0;34m=\u001b[0m \u001b[0;34m[\u001b[0m\u001b[0;34m]\u001b[0m\u001b[0;34m\u001b[0m\u001b[0;34m\u001b[0m\u001b[0m\n\u001b[1;32m     19\u001b[0m \u001b[0;32mfor\u001b[0m \u001b[0mrow\u001b[0m \u001b[0;32min\u001b[0m \u001b[0mcursor\u001b[0m\u001b[0;34m:\u001b[0m\u001b[0;34m\u001b[0m\u001b[0;34m\u001b[0m\u001b[0m\n\u001b[0;32m---> 20\u001b[0;31m     \u001b[0mplayerGames\u001b[0m\u001b[0;34m.\u001b[0m\u001b[0mappend\u001b[0m\u001b[0;34m(\u001b[0m\u001b[0;34m(\u001b[0m\u001b[0mrow\u001b[0m\u001b[0;34m[\u001b[0m\u001b[0;34m'cnt'\u001b[0m\u001b[0;34m]\u001b[0m\u001b[0;34m,\u001b[0m\u001b[0mrow\u001b[0m\u001b[0;34m[\u001b[0m\u001b[0;34m'name'\u001b[0m\u001b[0;34m]\u001b[0m\u001b[0;34m,\u001b[0m\u001b[0mrow\u001b[0m\u001b[0;34m[\u001b[0m\u001b[0;34m'position'\u001b[0m\u001b[0;34m]\u001b[0m\u001b[0;34m)\u001b[0m\u001b[0;34m)\u001b[0m\u001b[0;34m\u001b[0m\u001b[0;34m\u001b[0m\u001b[0m\n\u001b[0m\u001b[1;32m     21\u001b[0m \u001b[0mprint\u001b[0m\u001b[0;34m(\u001b[0m\u001b[0;34m\"losing players = %d (%6.4f secs)\"\u001b[0m \u001b[0;34m%\u001b[0m \u001b[0;34m(\u001b[0m\u001b[0mlen\u001b[0m\u001b[0;34m(\u001b[0m\u001b[0mplayerGames\u001b[0m\u001b[0;34m)\u001b[0m\u001b[0;34m,\u001b[0m \u001b[0mtime\u001b[0m\u001b[0;34m.\u001b[0m\u001b[0mtime\u001b[0m\u001b[0;34m(\u001b[0m\u001b[0;34m)\u001b[0m\u001b[0;34m-\u001b[0m\u001b[0mstart\u001b[0m\u001b[0;34m)\u001b[0m\u001b[0;34m)\u001b[0m\u001b[0;34m\u001b[0m\u001b[0;34m\u001b[0m\u001b[0m\n\u001b[1;32m     22\u001b[0m \u001b[0;32mfor\u001b[0m \u001b[0mrow\u001b[0m \u001b[0;32min\u001b[0m \u001b[0msorted\u001b[0m\u001b[0;34m(\u001b[0m\u001b[0mplayerGames\u001b[0m\u001b[0;34m,\u001b[0m \u001b[0mreverse\u001b[0m\u001b[0;34m=\u001b[0m\u001b[0;32mTrue\u001b[0m\u001b[0;34m)\u001b[0m\u001b[0;34m:\u001b[0m\u001b[0;34m\u001b[0m\u001b[0;34m\u001b[0m\u001b[0m\n",
      "\u001b[0;31mIndexError\u001b[0m: No item with that key"
     ]
    }
   ],
   "source": [
    "import time\n",
    "import sqlite3\n",
    "\n",
    "Q2 = \"\"\"SELECT P.name, COUNT(*) as cnt\n",
    " FROM Player P, PlayedFor R, Game G\n",
    " WHERE R.pid=P.pid AND G.season=R.year\n",
    " AND ((R.tid=G.vtid AND G.vscore>G.hscore) OR (R.tid=G.htid AND G.hscore>G.vscore))\n",
    " GROUP BY R.pid\n",
    " HAVING COUNT(*) > 200\"\"\"\n",
    "\n",
    "db = sqlite3.connect(\"NFL.db\")\n",
    "db.row_factory = sqlite3.Row\n",
    "cursor = db.cursor()\n",
    "\n",
    "cursor.execute(\"CREATE INDEX IF NOT EXISTS SeasonVis ON Game(season,vtid)\")\n",
    "start = time.time()\n",
    "cursor.execute(Q2)\n",
    "playerGames = []\n",
    "for row in cursor:\n",
    "    playerGames.append((row['cnt'],row['name'],row['position']))\n",
    "print(\"losing players = %d (%6.4f secs)\" % (len(playerGames), time.time()-start))\n",
    "for row in sorted(playerGames, reverse=True):\n",
    " print(row)"
   ]
  },
  {
   "cell_type": "code",
   "execution_count": null,
   "metadata": {},
   "outputs": [],
   "source": []
  },
  {
   "cell_type": "code",
   "execution_count": null,
   "metadata": {},
   "outputs": [],
   "source": []
  }
 ],
 "metadata": {
  "kernelspec": {
   "display_name": "Python 3",
   "language": "python",
   "name": "python3"
  },
  "language_info": {
   "codemirror_mode": {
    "name": "ipython",
    "version": 3
   },
   "file_extension": ".py",
   "mimetype": "text/x-python",
   "name": "python",
   "nbconvert_exporter": "python",
   "pygments_lexer": "ipython3",
   "version": "3.6.8"
  }
 },
 "nbformat": 4,
 "nbformat_minor": 2
}
